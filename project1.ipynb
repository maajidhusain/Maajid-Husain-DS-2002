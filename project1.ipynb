{
 "cells": [
  {
   "cell_type": "markdown",
   "metadata": {},
   "source": [
    "## Show Comparator\n",
    "\n",
    "### Assignment\n",
    "**Deliverable:** Author a segment of an ETL pipeline that will ingest or process raw data.\n",
    "You must also submit a URL to a GitHub repository for your solution. In python you’ll\n",
    "need to know how to open files, iterate files, pattern match and output files.\n",
    "\n",
    "**Benchmarks:**\n",
    "1. Your data processor should be able to ingest a pre-defined data source and\n",
    "perform at least three of these operations:\n",
    "    * Fetch / download / retrieve a remote data file by URL (API call like we did\n",
    "    in class), or ingest a local file that you have downloaded from\n",
    "    somewhere…like in a CSV format. Suggestions for remote data sources\n",
    "    are listed at the end of this document on our Github page as we went\n",
    "    through in class.\n",
    "    * Convert the general format and data structure of the data source (from\n",
    "    JSON to CSV, from CSV to JSON, from JSON into a SQL database table,\n",
    "    etc. I want the option to convert any source to any target. So, if I get a\n",
    "    CSV as an input, I want the user to choose an output)\n",
    "    * Modify the number of columns from the source to the destination,\n",
    "    reducing or adding columns so that you transform it with something\n",
    "    else…you can make up whatever it is…like date changes…or mash up\n",
    "    two columns…it’s up to you.\n",
    "    * The converted (new) file should be written to disk (local file) or written to a\n",
    "SQL database like SQL Lite\n",
    "    * Generate a brief summary of the data file ingestion after it has processed\n",
    "and output it to the user including:\n",
    "        * Number of records\n",
    "        * Number of columns\n",
    "2. The processor should produce informative errors should it be unable to complete\n",
    "an operation. (Try / Catch with error messages, not file exists…just pick any\n",
    "error.)\n",
    "\n",
    "### About the code\n",
    "One function was created for user interaction while the other two are helper methods \n",
    "1. Utilizes the [TVMaze API](https://www.tvmaze.com/api#show-lookup) to query data on TV Shows\n",
    "2. Filters API data to only include *Genre* and *rating*\n",
    "3. Outputs data in sql database, csv file, or none depending on selection\n",
    "4. Sorts shows on most highly rated\n",
    "\n",
    "### How to use the Code\n",
    "Call the main method: ```get_api_response()``` which has four parameters\n",
    "1. First show name (case insensitive)\n",
    "2. Second show name (case insensitive)\n",
    "3. Third show name (case insensitive)\n",
    "4. Output file type -- this can be either ```csv```, ```sql```, or ```None``` (case insensitive)\n",
    "\n",
    "Call the visualization method: ```visualize_show()``` which also has four parameters\n",
    "1. First show name (same as from main method call)\n",
    "2. Second show name (same as from main method call)\n",
    "3. Third show name (same as from main method call)\n",
    "4. Graph Type -- this can be either ```'box'```, ```'violin'```, ```'scatter'```, ```'line'```"
   ]
  },
  {
   "cell_type": "code",
   "execution_count": 11,
   "metadata": {},
   "outputs": [],
   "source": [
    "import os\n",
    "import json\n",
    "import pprint\n",
    "import requests\n",
    "import requests.exceptions\n",
    "import pandas as pd\n",
    "import sqlite3\n",
    "import plotly as plt"
   ]
  },
  {
   "cell_type": "code",
   "execution_count": 12,
   "metadata": {},
   "outputs": [],
   "source": [
    "# Function for calling API to get data from desired show\n",
    "def __query_response__(show_name, url):\n",
    "    header_var ={'User-Agent': 'Mozilla/5.0 (Macintosh; Intel Mac OS X 10_10_1) AppleWebKit/537.36 (KHTML, like Gecko) Chrome/39.0.2171.95 Safari/537.36'}\n",
    "    show_querystring = {'q': show_name, 'code': 0} #type dict\n",
    "    # Writing exceptions for if the url is not working\n",
    "    try:\n",
    "        show_response = requests.request(\"GET\", url, headers=header_var, params=show_querystring)\n",
    "        show_response.raise_for_status()\n",
    "    except requests.exceptions.HTTPError as errh:\n",
    "        return f\"This show '{show_name}' does not exist: \" + repr(errh)\n",
    "    except requests.exceptions.ConnectionError as errc:\n",
    "        return \"Connection\" + repr(errc)\n",
    "    except requests.exceptions.Timeout as errt:\n",
    "        return \"Timeout error please try again: \" + repr(errt)\n",
    "    except requests.exceptions.RequestException as err:\n",
    "        return \"f4: \" + repr(err)\n",
    "    json = show_response.json()\n",
    "    num_keys = len(json[0]['show'])\n",
    "    num_responses = len(json)\n",
    "    print(f'{show_name} has: {num_keys} columns & {num_responses} records')\n",
    "    return json\n",
    "\n",
    "# Functin to invoke SQLite3 commands to create a local .db file from desired data\n",
    "def __make_sql_db__(df):\n",
    "    try:\n",
    "        conn = sqlite3.connect('showdata.db')\n",
    "        cur = conn.cursor()\n",
    "        cur.execute('CREATE TABLE IF NOT EXISTS shows (Show_Name text, Genres text, Ratings number)')\n",
    "        conn.commit()\n",
    "    except sqlite3.Error as er:\n",
    "        print('SQLite error: %s' % (' '.join(er.args)))\n",
    "        print(\"Exception class is: \", er.__class__)\n",
    "    df.to_sql('shows', conn, if_exists='replace', index=False) \n",
    "    cur.execute('''  \n",
    "    SELECT * FROM shows\n",
    "        ''')\n",
    "    for row in cur.fetchall():\n",
    "        print (row)\n",
    "    return \"Added to SQL database\"\n",
    "    conn.close()\n",
    "\n",
    "# function which collects three show names, and a desired output type to return name of show, genres, and ratings in either a SQL db or CSV\n",
    "def get_api_response(show_1, show_2, show_3, response_type):\n",
    "    # Getting url for the financeData module in Yahoo API\n",
    "    url = 'http://api.tvmaze.com/search/shows?'\n",
    "    \n",
    "    show1_json = __query_response__(show_1, url)\n",
    "    \n",
    "    if len(show1_json)>0:\n",
    "        show1_name = show1_json[0]['show']['name']\n",
    "        show1_genrelist = show1_json[0]['show']['genres']\n",
    "        show1_rating = show1_json[0]['show']['rating']['average']\n",
    "        show1_imdb = show1_json[0]['show']['externals']['imdb']\n",
    "    else:\n",
    "        return \"No data recieved -- invalid show name\"\n",
    "       \n",
    "    show2_json = __query_response__(show_2, url)\n",
    "    if len(show2_json) > 0:\n",
    "        show2_name = show2_json[0]['show']['name']\n",
    "        show2_genrelist = show2_json[0]['show']['genres']\n",
    "        show2_rating = show2_json[0]['show']['rating']['average']\n",
    "        show2_imdb = show2_json[0]['show']['externals']['imdb']\n",
    "        #imdb_show12_url = \n",
    "    else:\n",
    "        return \"No data recieved -- invalid show name\"\n",
    "\n",
    "    \n",
    "    show3_json = __query_response__(show_3, url)\n",
    "    if len(show3_json) > 0:\n",
    "        show3_name = show3_json[0]['show']['name']\n",
    "        show3_genrelist = show3_json[0]['show']['genres']\n",
    "        show3_rating = show3_json[0]['show']['rating']['average']\n",
    "        show3_imdb = show3_json[0]['show']['externals']['imdb']\n",
    "    else:\n",
    "        return \"No data recieved -- invalid show name\"\n",
    "    \n",
    "    namelist = [show1_name, show2_name, show3_name] #list of show names\n",
    "    genrelist = ['|'.join(show1_genrelist), '|'.join(show2_genrelist), '|'.join(show3_genrelist)] #list of strings of genres \"pipe seperated values\"\n",
    "    ratinglist = [show1_rating, show2_rating, show3_rating] #list of ratings \n",
    "\n",
    "    #making dataframe from list of values using zip method\n",
    "    df = pd.DataFrame(list(zip(namelist,genrelist, ratinglist)),\n",
    "               columns =['Show_Name','Genres', 'Ratings']).sort_values('Ratings', ascending=False) #sorts values from highest rating to lowest rating\n",
    "    response_type = response_type.lower()\n",
    "    if response_type == 'csv':\n",
    "        df.to_csv('showdata.csv')\n",
    "        result = \"File Written to CSV\"\n",
    "    elif response_type == 'sql':\n",
    "        result = __make_sql_db(df)\n",
    "    elif response_type == 'none':\n",
    "        result = None\n",
    "    else:\n",
    "        result = \"An unhandled error has occurred!\"\n",
    "    print(result)\n",
    "    return df"
   ]
  },
  {
   "cell_type": "markdown",
   "metadata": {},
   "source": [
    "### Run the above box and then tweak selections below"
   ]
  },
  {
   "cell_type": "code",
   "execution_count": 13,
   "metadata": {},
   "outputs": [
    {
     "name": "stdout",
     "output_type": "stream",
     "text": [
      "Breaking Bad has: 23 columns & 7 records\n",
      "New Girl has: 23 columns & 5 records\n",
      "Keeping up with the Kardashians has: 23 columns & 1 records\n",
      "File Written to CSV\n"
     ]
    },
    {
     "data": {
      "text/html": [
       "<div>\n",
       "<style scoped>\n",
       "    .dataframe tbody tr th:only-of-type {\n",
       "        vertical-align: middle;\n",
       "    }\n",
       "\n",
       "    .dataframe tbody tr th {\n",
       "        vertical-align: top;\n",
       "    }\n",
       "\n",
       "    .dataframe thead th {\n",
       "        text-align: right;\n",
       "    }\n",
       "</style>\n",
       "<table border=\"1\" class=\"dataframe\">\n",
       "  <thead>\n",
       "    <tr style=\"text-align: right;\">\n",
       "      <th></th>\n",
       "      <th>Show_Name</th>\n",
       "      <th>Genres</th>\n",
       "      <th>Ratings</th>\n",
       "    </tr>\n",
       "  </thead>\n",
       "  <tbody>\n",
       "    <tr>\n",
       "      <th>0</th>\n",
       "      <td>Breaking Bad</td>\n",
       "      <td>Drama|Crime|Thriller</td>\n",
       "      <td>9.2</td>\n",
       "    </tr>\n",
       "    <tr>\n",
       "      <th>1</th>\n",
       "      <td>New Girl</td>\n",
       "      <td>Comedy|Romance</td>\n",
       "      <td>7.2</td>\n",
       "    </tr>\n",
       "    <tr>\n",
       "      <th>2</th>\n",
       "      <td>Keeping Up with the Kardashians</td>\n",
       "      <td>Drama</td>\n",
       "      <td>3.2</td>\n",
       "    </tr>\n",
       "  </tbody>\n",
       "</table>\n",
       "</div>"
      ],
      "text/plain": [
       "                         Show_Name                Genres  Ratings\n",
       "0                     Breaking Bad  Drama|Crime|Thriller      9.2\n",
       "1                         New Girl        Comedy|Romance      7.2\n",
       "2  Keeping Up with the Kardashians                 Drama      3.2"
      ]
     },
     "execution_count": 13,
     "metadata": {},
     "output_type": "execute_result"
    }
   ],
   "source": [
    "#Adjust below code to desired outputs\n",
    "show_1 = 'Breaking Bad' \n",
    "show_2 = 'New Girl'\n",
    "show_3 = 'Keeping up with the Kardashians'\n",
    "output_type = 'csv'\n",
    "\n",
    "#Leave code below unchanged\n",
    "get_api_response(show_1, show_2, show_3, output_type)"
   ]
  },
  {
   "cell_type": "markdown",
   "metadata": {},
   "source": [
    "## Visualizing your Results\n",
    "\n",
    "Use the ```visualize_show()``` method to create a nice visualization to depict difference in show "
   ]
  },
  {
   "cell_type": "code",
   "execution_count": 14,
   "metadata": {},
   "outputs": [],
   "source": [
    "import plotly.express as px\n",
    "import plotly.graph_objects as go"
   ]
  },
  {
   "cell_type": "code",
   "execution_count": 28,
   "metadata": {},
   "outputs": [],
   "source": [
    "def visualize_show(show_1, show_2, show_3, graph_type):\n",
    "    df = get_api_response(show_1, show_2, show_3, 'None')\n",
    "    plot_dict = {'box': px.box,'violin': px.violin, 'scatter': px.scatter, 'line':px.line} \n",
    "    try:\n",
    "        # Initialize function\n",
    "        fig = plot_dict[graph_type](df, \n",
    "                                    x='Show_Name', \n",
    "                                    y='Ratings',\n",
    "                                   hover_name = \"Show_Name\")\n",
    "        # Format figure \n",
    "        title_string = f'Chart: {graph_type} plot of Show Name and Rating'\n",
    "        fig.update_layout(title = title_string)\n",
    "        fig.update_xaxes(tickangle=-45)\n",
    "        return fig\n",
    "    \n",
    "    except KeyError:\n",
    "        print(\"Key not found. Make sure that 'graph_type' is in ['box','violin', 'scatter', 'line']\")"
   ]
  },
  {
   "cell_type": "code",
   "execution_count": 32,
   "metadata": {},
   "outputs": [
    {
     "name": "stdout",
     "output_type": "stream",
     "text": [
      "Breaking Bad has: 23 columns & 7 records\n",
      "New Girl has: 23 columns & 5 records\n",
      "Keeping up with the Kardashians has: 23 columns & 1 records\n",
      "None\n"
     ]
    },
    {
     "data": {
      "application/vnd.plotly.v1+json": {
       "config": {
        "plotlyServerURL": "https://plot.ly"
       },
       "data": [
        {
         "alignmentgroup": "True",
         "box": {
          "visible": false
         },
         "hovertemplate": "<b>%{hovertext}</b><br><br>Show_Name=%{x}<br>Ratings=%{y}<extra></extra>",
         "hovertext": [
          "Breaking Bad",
          "New Girl",
          "Keeping Up with the Kardashians"
         ],
         "legendgroup": "",
         "marker": {
          "color": "#636efa"
         },
         "name": "",
         "offsetgroup": "",
         "orientation": "v",
         "scalegroup": "True",
         "showlegend": false,
         "type": "violin",
         "x": [
          "Breaking Bad",
          "New Girl",
          "Keeping Up with the Kardashians"
         ],
         "x0": " ",
         "xaxis": "x",
         "y": [
          9.2,
          7.2,
          3.2
         ],
         "y0": " ",
         "yaxis": "y"
        }
       ],
       "layout": {
        "legend": {
         "tracegroupgap": 0
        },
        "margin": {
         "t": 60
        },
        "template": {
         "data": {
          "bar": [
           {
            "error_x": {
             "color": "#2a3f5f"
            },
            "error_y": {
             "color": "#2a3f5f"
            },
            "marker": {
             "line": {
              "color": "#E5ECF6",
              "width": 0.5
             },
             "pattern": {
              "fillmode": "overlay",
              "size": 10,
              "solidity": 0.2
             }
            },
            "type": "bar"
           }
          ],
          "barpolar": [
           {
            "marker": {
             "line": {
              "color": "#E5ECF6",
              "width": 0.5
             },
             "pattern": {
              "fillmode": "overlay",
              "size": 10,
              "solidity": 0.2
             }
            },
            "type": "barpolar"
           }
          ],
          "carpet": [
           {
            "aaxis": {
             "endlinecolor": "#2a3f5f",
             "gridcolor": "white",
             "linecolor": "white",
             "minorgridcolor": "white",
             "startlinecolor": "#2a3f5f"
            },
            "baxis": {
             "endlinecolor": "#2a3f5f",
             "gridcolor": "white",
             "linecolor": "white",
             "minorgridcolor": "white",
             "startlinecolor": "#2a3f5f"
            },
            "type": "carpet"
           }
          ],
          "choropleth": [
           {
            "colorbar": {
             "outlinewidth": 0,
             "ticks": ""
            },
            "type": "choropleth"
           }
          ],
          "contour": [
           {
            "colorbar": {
             "outlinewidth": 0,
             "ticks": ""
            },
            "colorscale": [
             [
              0,
              "#0d0887"
             ],
             [
              0.1111111111111111,
              "#46039f"
             ],
             [
              0.2222222222222222,
              "#7201a8"
             ],
             [
              0.3333333333333333,
              "#9c179e"
             ],
             [
              0.4444444444444444,
              "#bd3786"
             ],
             [
              0.5555555555555556,
              "#d8576b"
             ],
             [
              0.6666666666666666,
              "#ed7953"
             ],
             [
              0.7777777777777778,
              "#fb9f3a"
             ],
             [
              0.8888888888888888,
              "#fdca26"
             ],
             [
              1,
              "#f0f921"
             ]
            ],
            "type": "contour"
           }
          ],
          "contourcarpet": [
           {
            "colorbar": {
             "outlinewidth": 0,
             "ticks": ""
            },
            "type": "contourcarpet"
           }
          ],
          "heatmap": [
           {
            "colorbar": {
             "outlinewidth": 0,
             "ticks": ""
            },
            "colorscale": [
             [
              0,
              "#0d0887"
             ],
             [
              0.1111111111111111,
              "#46039f"
             ],
             [
              0.2222222222222222,
              "#7201a8"
             ],
             [
              0.3333333333333333,
              "#9c179e"
             ],
             [
              0.4444444444444444,
              "#bd3786"
             ],
             [
              0.5555555555555556,
              "#d8576b"
             ],
             [
              0.6666666666666666,
              "#ed7953"
             ],
             [
              0.7777777777777778,
              "#fb9f3a"
             ],
             [
              0.8888888888888888,
              "#fdca26"
             ],
             [
              1,
              "#f0f921"
             ]
            ],
            "type": "heatmap"
           }
          ],
          "heatmapgl": [
           {
            "colorbar": {
             "outlinewidth": 0,
             "ticks": ""
            },
            "colorscale": [
             [
              0,
              "#0d0887"
             ],
             [
              0.1111111111111111,
              "#46039f"
             ],
             [
              0.2222222222222222,
              "#7201a8"
             ],
             [
              0.3333333333333333,
              "#9c179e"
             ],
             [
              0.4444444444444444,
              "#bd3786"
             ],
             [
              0.5555555555555556,
              "#d8576b"
             ],
             [
              0.6666666666666666,
              "#ed7953"
             ],
             [
              0.7777777777777778,
              "#fb9f3a"
             ],
             [
              0.8888888888888888,
              "#fdca26"
             ],
             [
              1,
              "#f0f921"
             ]
            ],
            "type": "heatmapgl"
           }
          ],
          "histogram": [
           {
            "marker": {
             "pattern": {
              "fillmode": "overlay",
              "size": 10,
              "solidity": 0.2
             }
            },
            "type": "histogram"
           }
          ],
          "histogram2d": [
           {
            "colorbar": {
             "outlinewidth": 0,
             "ticks": ""
            },
            "colorscale": [
             [
              0,
              "#0d0887"
             ],
             [
              0.1111111111111111,
              "#46039f"
             ],
             [
              0.2222222222222222,
              "#7201a8"
             ],
             [
              0.3333333333333333,
              "#9c179e"
             ],
             [
              0.4444444444444444,
              "#bd3786"
             ],
             [
              0.5555555555555556,
              "#d8576b"
             ],
             [
              0.6666666666666666,
              "#ed7953"
             ],
             [
              0.7777777777777778,
              "#fb9f3a"
             ],
             [
              0.8888888888888888,
              "#fdca26"
             ],
             [
              1,
              "#f0f921"
             ]
            ],
            "type": "histogram2d"
           }
          ],
          "histogram2dcontour": [
           {
            "colorbar": {
             "outlinewidth": 0,
             "ticks": ""
            },
            "colorscale": [
             [
              0,
              "#0d0887"
             ],
             [
              0.1111111111111111,
              "#46039f"
             ],
             [
              0.2222222222222222,
              "#7201a8"
             ],
             [
              0.3333333333333333,
              "#9c179e"
             ],
             [
              0.4444444444444444,
              "#bd3786"
             ],
             [
              0.5555555555555556,
              "#d8576b"
             ],
             [
              0.6666666666666666,
              "#ed7953"
             ],
             [
              0.7777777777777778,
              "#fb9f3a"
             ],
             [
              0.8888888888888888,
              "#fdca26"
             ],
             [
              1,
              "#f0f921"
             ]
            ],
            "type": "histogram2dcontour"
           }
          ],
          "mesh3d": [
           {
            "colorbar": {
             "outlinewidth": 0,
             "ticks": ""
            },
            "type": "mesh3d"
           }
          ],
          "parcoords": [
           {
            "line": {
             "colorbar": {
              "outlinewidth": 0,
              "ticks": ""
             }
            },
            "type": "parcoords"
           }
          ],
          "pie": [
           {
            "automargin": true,
            "type": "pie"
           }
          ],
          "scatter": [
           {
            "fillpattern": {
             "fillmode": "overlay",
             "size": 10,
             "solidity": 0.2
            },
            "type": "scatter"
           }
          ],
          "scatter3d": [
           {
            "line": {
             "colorbar": {
              "outlinewidth": 0,
              "ticks": ""
             }
            },
            "marker": {
             "colorbar": {
              "outlinewidth": 0,
              "ticks": ""
             }
            },
            "type": "scatter3d"
           }
          ],
          "scattercarpet": [
           {
            "marker": {
             "colorbar": {
              "outlinewidth": 0,
              "ticks": ""
             }
            },
            "type": "scattercarpet"
           }
          ],
          "scattergeo": [
           {
            "marker": {
             "colorbar": {
              "outlinewidth": 0,
              "ticks": ""
             }
            },
            "type": "scattergeo"
           }
          ],
          "scattergl": [
           {
            "marker": {
             "colorbar": {
              "outlinewidth": 0,
              "ticks": ""
             }
            },
            "type": "scattergl"
           }
          ],
          "scattermapbox": [
           {
            "marker": {
             "colorbar": {
              "outlinewidth": 0,
              "ticks": ""
             }
            },
            "type": "scattermapbox"
           }
          ],
          "scatterpolar": [
           {
            "marker": {
             "colorbar": {
              "outlinewidth": 0,
              "ticks": ""
             }
            },
            "type": "scatterpolar"
           }
          ],
          "scatterpolargl": [
           {
            "marker": {
             "colorbar": {
              "outlinewidth": 0,
              "ticks": ""
             }
            },
            "type": "scatterpolargl"
           }
          ],
          "scatterternary": [
           {
            "marker": {
             "colorbar": {
              "outlinewidth": 0,
              "ticks": ""
             }
            },
            "type": "scatterternary"
           }
          ],
          "surface": [
           {
            "colorbar": {
             "outlinewidth": 0,
             "ticks": ""
            },
            "colorscale": [
             [
              0,
              "#0d0887"
             ],
             [
              0.1111111111111111,
              "#46039f"
             ],
             [
              0.2222222222222222,
              "#7201a8"
             ],
             [
              0.3333333333333333,
              "#9c179e"
             ],
             [
              0.4444444444444444,
              "#bd3786"
             ],
             [
              0.5555555555555556,
              "#d8576b"
             ],
             [
              0.6666666666666666,
              "#ed7953"
             ],
             [
              0.7777777777777778,
              "#fb9f3a"
             ],
             [
              0.8888888888888888,
              "#fdca26"
             ],
             [
              1,
              "#f0f921"
             ]
            ],
            "type": "surface"
           }
          ],
          "table": [
           {
            "cells": {
             "fill": {
              "color": "#EBF0F8"
             },
             "line": {
              "color": "white"
             }
            },
            "header": {
             "fill": {
              "color": "#C8D4E3"
             },
             "line": {
              "color": "white"
             }
            },
            "type": "table"
           }
          ]
         },
         "layout": {
          "annotationdefaults": {
           "arrowcolor": "#2a3f5f",
           "arrowhead": 0,
           "arrowwidth": 1
          },
          "autotypenumbers": "strict",
          "coloraxis": {
           "colorbar": {
            "outlinewidth": 0,
            "ticks": ""
           }
          },
          "colorscale": {
           "diverging": [
            [
             0,
             "#8e0152"
            ],
            [
             0.1,
             "#c51b7d"
            ],
            [
             0.2,
             "#de77ae"
            ],
            [
             0.3,
             "#f1b6da"
            ],
            [
             0.4,
             "#fde0ef"
            ],
            [
             0.5,
             "#f7f7f7"
            ],
            [
             0.6,
             "#e6f5d0"
            ],
            [
             0.7,
             "#b8e186"
            ],
            [
             0.8,
             "#7fbc41"
            ],
            [
             0.9,
             "#4d9221"
            ],
            [
             1,
             "#276419"
            ]
           ],
           "sequential": [
            [
             0,
             "#0d0887"
            ],
            [
             0.1111111111111111,
             "#46039f"
            ],
            [
             0.2222222222222222,
             "#7201a8"
            ],
            [
             0.3333333333333333,
             "#9c179e"
            ],
            [
             0.4444444444444444,
             "#bd3786"
            ],
            [
             0.5555555555555556,
             "#d8576b"
            ],
            [
             0.6666666666666666,
             "#ed7953"
            ],
            [
             0.7777777777777778,
             "#fb9f3a"
            ],
            [
             0.8888888888888888,
             "#fdca26"
            ],
            [
             1,
             "#f0f921"
            ]
           ],
           "sequentialminus": [
            [
             0,
             "#0d0887"
            ],
            [
             0.1111111111111111,
             "#46039f"
            ],
            [
             0.2222222222222222,
             "#7201a8"
            ],
            [
             0.3333333333333333,
             "#9c179e"
            ],
            [
             0.4444444444444444,
             "#bd3786"
            ],
            [
             0.5555555555555556,
             "#d8576b"
            ],
            [
             0.6666666666666666,
             "#ed7953"
            ],
            [
             0.7777777777777778,
             "#fb9f3a"
            ],
            [
             0.8888888888888888,
             "#fdca26"
            ],
            [
             1,
             "#f0f921"
            ]
           ]
          },
          "colorway": [
           "#636efa",
           "#EF553B",
           "#00cc96",
           "#ab63fa",
           "#FFA15A",
           "#19d3f3",
           "#FF6692",
           "#B6E880",
           "#FF97FF",
           "#FECB52"
          ],
          "font": {
           "color": "#2a3f5f"
          },
          "geo": {
           "bgcolor": "white",
           "lakecolor": "white",
           "landcolor": "#E5ECF6",
           "showlakes": true,
           "showland": true,
           "subunitcolor": "white"
          },
          "hoverlabel": {
           "align": "left"
          },
          "hovermode": "closest",
          "mapbox": {
           "style": "light"
          },
          "paper_bgcolor": "white",
          "plot_bgcolor": "#E5ECF6",
          "polar": {
           "angularaxis": {
            "gridcolor": "white",
            "linecolor": "white",
            "ticks": ""
           },
           "bgcolor": "#E5ECF6",
           "radialaxis": {
            "gridcolor": "white",
            "linecolor": "white",
            "ticks": ""
           }
          },
          "scene": {
           "xaxis": {
            "backgroundcolor": "#E5ECF6",
            "gridcolor": "white",
            "gridwidth": 2,
            "linecolor": "white",
            "showbackground": true,
            "ticks": "",
            "zerolinecolor": "white"
           },
           "yaxis": {
            "backgroundcolor": "#E5ECF6",
            "gridcolor": "white",
            "gridwidth": 2,
            "linecolor": "white",
            "showbackground": true,
            "ticks": "",
            "zerolinecolor": "white"
           },
           "zaxis": {
            "backgroundcolor": "#E5ECF6",
            "gridcolor": "white",
            "gridwidth": 2,
            "linecolor": "white",
            "showbackground": true,
            "ticks": "",
            "zerolinecolor": "white"
           }
          },
          "shapedefaults": {
           "line": {
            "color": "#2a3f5f"
           }
          },
          "ternary": {
           "aaxis": {
            "gridcolor": "white",
            "linecolor": "white",
            "ticks": ""
           },
           "baxis": {
            "gridcolor": "white",
            "linecolor": "white",
            "ticks": ""
           },
           "bgcolor": "#E5ECF6",
           "caxis": {
            "gridcolor": "white",
            "linecolor": "white",
            "ticks": ""
           }
          },
          "title": {
           "x": 0.05
          },
          "xaxis": {
           "automargin": true,
           "gridcolor": "white",
           "linecolor": "white",
           "ticks": "",
           "title": {
            "standoff": 15
           },
           "zerolinecolor": "white",
           "zerolinewidth": 2
          },
          "yaxis": {
           "automargin": true,
           "gridcolor": "white",
           "linecolor": "white",
           "ticks": "",
           "title": {
            "standoff": 15
           },
           "zerolinecolor": "white",
           "zerolinewidth": 2
          }
         }
        },
        "title": {
         "text": "Chart: violin plot of Show Name and Rating"
        },
        "violinmode": "group",
        "xaxis": {
         "anchor": "y",
         "domain": [
          0,
          1
         ],
         "tickangle": -45,
         "title": {
          "text": "Show_Name"
         }
        },
        "yaxis": {
         "anchor": "x",
         "domain": [
          0,
          1
         ],
         "title": {
          "text": "Ratings"
         }
        }
       }
      }
     },
     "metadata": {},
     "output_type": "display_data"
    }
   ],
   "source": [
    "#Adjust below code to desired selection from the following selection ['box','violin', 'scatter', 'line']\n",
    "graph_type = 'violin'\n",
    "\n",
    "#Leave code below unchanged\n",
    "visualize_show(show_1, show_2, show_3, graph_type)"
   ]
  }
 ],
 "metadata": {
  "kernelspec": {
   "display_name": "Python 3",
   "language": "python",
   "name": "python3"
  },
  "language_info": {
   "codemirror_mode": {
    "name": "ipython",
    "version": 3
   },
   "file_extension": ".py",
   "mimetype": "text/x-python",
   "name": "python",
   "nbconvert_exporter": "python",
   "pygments_lexer": "ipython3",
   "version": "3.8.5"
  },
  "vscode": {
   "interpreter": {
    "hash": "aee8b7b246df8f9039afb4144a1f6fd8d2ca17a180786b69acc140d282b71a49"
   }
  }
 },
 "nbformat": 4,
 "nbformat_minor": 2
}
