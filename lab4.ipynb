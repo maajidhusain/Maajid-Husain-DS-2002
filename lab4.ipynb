{
 "cells": [
  {
   "cell_type": "markdown",
   "metadata": {},
   "source": [
    "## Using Yahoo finance API to track current stocks"
   ]
  },
  {
   "cell_type": "markdown",
   "metadata": {},
   "source": [
    "[Documentation for Yahoo Finance API](https://syncwith.com/yahoo-finance/yahoo-finance-api)"
   ]
  },
  {
   "cell_type": "markdown",
   "metadata": {},
   "source": [
    "### Learning Objectives\n",
    "1. Practice using Python to interact and call a public API sucessfully\n",
    "2. Look at the data within JSON and DataFrames\n",
    "3. Write data to local JSON file\n",
    "4. Use basic vizualization to display information\n",
    "5. Interact with users"
   ]
  },
  {
   "cell_type": "markdown",
   "metadata": {},
   "source": [
    "### Assignment tasks\n",
    "1. Takes user input for a stock (using Ticker Symbol): i.e. with the input() command\n",
    "2. Display back to the user: ```Name Ticker```, ```Full name of the Stock```, ```Current Price```, ```Target Mean Price```, ```Cash on Hand```, and ```Profit Margins```.\n",
    "3. Store results locally in JSON Format with just those items and include ```Date``` from when the data was pulled\n",
    "4. Handle Errors (i.e. if the stock doesn't exist and/or the API is not returning information)"
   ]
  },
  {
   "cell_type": "code",
   "execution_count": 1,
   "metadata": {},
   "outputs": [],
   "source": [
    "import os\n",
    "import json\n",
    "import pprint\n",
    "import requests\n",
    "import requests.exceptions\n",
    "import pandas as pd"
   ]
  },
  {
   "cell_type": "code",
   "execution_count": null,
   "metadata": {},
   "outputs": [],
   "source": [
    "# Getting user input for desired stock\n",
    "stock = input()\n",
    "print(f'The stock you have chosen is {stock}')"
   ]
  },
  {
   "cell_type": "markdown",
   "metadata": {},
   "source": [
    "Setting in a base URL\n",
    "(https://query1.finance.yahoo.com/v6/finance/quote)"
   ]
  },
  {
   "cell_type": "code",
   "execution_count": null,
   "metadata": {},
   "outputs": [],
   "source": [
    "url = 'https://query1.finance.yahoo.com/v11/finance/quoteSummary/'\n",
    "querystring = {\"symbol\": stock, \"modules\": 'financialData'} #type dict\n",
    "querystring"
   ]
  },
  {
   "cell_type": "code",
   "execution_count": null,
   "metadata": {},
   "outputs": [],
   "source": [
    "header_var ={'User-Agent': 'Mozilla/5.0 (Macintosh; Intel Mac OS X 10_10_1) AppleWebKit/537.36 (KHTML, like Gecko) Chrome/39.0.2171.95 Safari/537.36'}\n",
    "response = requests.request(\"GET\",url, headers=header_var, params=querystring)\n",
    "response.content"
   ]
  },
  {
   "cell_type": "code",
   "execution_count": null,
   "metadata": {},
   "outputs": [],
   "source": [
    "stock_json = response.json()\n",
    "stock_json"
   ]
  },
  {
   "cell_type": "markdown",
   "metadata": {},
   "source": [
    "#### Variables included in financialData module\n",
    "```Current Price```, ```Target Mean Price```, ```Cash on Hand```, and ```Profit Margins```."
   ]
  },
  {
   "cell_type": "code",
   "execution_count": null,
   "metadata": {},
   "outputs": [],
   "source": [
    "#longName = stock_json['quoteSummary']['result'][0]['financialData']\n",
    "#ticker = stock_json['quoteSummary']['result'][0]['symbol']\n",
    "#currentPrice = stock_json['quoteSummary']['result'][0]['currentPrice']['fmt']\n",
    "current_price = stock_json['quoteSummary']['result'][0]['financialData']['currentPrice']['raw']\n",
    "target_mean_price = stock_json['quoteSummary']['result'][0]['financialData']['targetMeanPrice']['raw']\n",
    "cash_on_hand = stock_json['quoteSummary']['result'][0]['financialData']['totalCash']['raw']\n",
    "profit_margin = stock_json['quoteSummary']['result'][0]['financialData']['profitMargins']['raw']\n"
   ]
  },
  {
   "cell_type": "markdown",
   "metadata": {},
   "source": [
    "### Getting the name data from another API call"
   ]
  },
  {
   "cell_type": "code",
   "execution_count": null,
   "metadata": {},
   "outputs": [],
   "source": [
    "url2 = 'https://query1.finance.yahoo.com/v7/finance/quote'\n",
    "string_query = {\"symbols\": stock}\n",
    "names = requests.request(\"GET\", url2, headers=header_var, params=string_query)\n",
    "name_json = names.json()\n",
    "ticker_name = name_json['quoteResponse']['result'][0]['symbol']\n",
    "full_name = name_json['quoteResponse']['result'][0]['longName']"
   ]
  },
  {
   "cell_type": "markdown",
   "metadata": {},
   "source": [
    "### Adding responses to dataframe"
   ]
  },
  {
   "cell_type": "code",
   "execution_count": null,
   "metadata": {},
   "outputs": [],
   "source": [
    "name_list = ['Ticker', 'Full Name', 'Current Price', 'Target Mean Price', 'Cash on Hand', 'Profit Margin']\n",
    "value_list = [ticker_name, full_name,current_price, target_mean_price, cash_on_hand, profit_margin]\n",
    "financial_data_dict = {'Attributes': name_list, \"Values\": value_list}\n",
    "financial_data = {\"Ticker\": ticker_name, \"Full Name\": full_name, \"Current Price\": current_price, \"Target Mean Price\": target_mean_price, \"Cash on Hand\": cash_on_hand, \"Profit Margins\": profit_margin}\n",
    "dataframe = pd.DataFrame.from_dict(financial_data_dict)\n",
    "dataframe"
   ]
  },
  {
   "cell_type": "markdown",
   "metadata": {},
   "source": [
    "## Modifying code to run in a function to handle expections"
   ]
  },
  {
   "cell_type": "code",
   "execution_count": 19,
   "metadata": {},
   "outputs": [
    {
     "name": "stdout",
     "output_type": "stream",
     "text": [
      "File written to json\n"
     ]
    },
    {
     "data": {
      "text/plain": [
       "'{\\n    \"Ticker\": \"AAPL\",\\n    \"Full Name\": \"Apple Inc.\",\\n    \"Current Price\": 138.38,\\n    \"Target Mean Price\": 183.16,\\n    \"Cash on Hand\": 48230998016,\\n    \"Profit Margins\": 0.25709\\n}'"
      ]
     },
     "execution_count": 19,
     "metadata": {},
     "output_type": "execute_result"
    }
   ],
   "source": [
    "def get_api_response(stock, response_type):\n",
    "    # Getting url for the financeData module in Yahoo API\n",
    "    header_var ={'User-Agent': 'Mozilla/5.0 (Macintosh; Intel Mac OS X 10_10_1) AppleWebKit/537.36 (KHTML, like Gecko) Chrome/39.0.2171.95 Safari/537.36'}\n",
    "    finance_url = 'https://query1.finance.yahoo.com/v11/finance/quoteSummary/'\n",
    "    finance_querystring = {\"symbol\": stock, \"modules\": 'financialData'} #type dict\n",
    "    # Writing exceptions for if the url is not working\n",
    "    try:\n",
    "        finance_response = requests.request(\"GET\", finance_url, headers=header_var, params=finance_querystring)\n",
    "        finance_response.raise_for_status()\n",
    "    except requests.exceptions.HTTPError as errh:\n",
    "        return f\"This stock '{stock}' does not exist: \" + repr(errh)\n",
    "    except requests.exceptions.ConnectionError as errc:\n",
    "        return \"Connection\" + repr(errc)\n",
    "    except requests.exceptions.Timeout as errt:\n",
    "        return \"Timeout error please try again: \" + repr(errt)\n",
    "    except requests.exceptions.RequestException as err:\n",
    "        return \"f4: \" + repr(err)\n",
    "    \n",
    "    finance_json = finance_response.json()\n",
    "    current_price = finance_json['quoteSummary']['result'][0]['financialData']['currentPrice']['raw']\n",
    "    target_mean_price = finance_json['quoteSummary']['result'][0]['financialData']['targetMeanPrice']['raw']\n",
    "    cash_on_hand = finance_json['quoteSummary']['result'][0]['financialData']['totalCash']['raw']\n",
    "    profit_margin = finance_json['quoteSummary']['result'][0]['financialData']['profitMargins']['raw']\n",
    "    \n",
    "    # Getting the name data from Yahoo API\n",
    "    name_url = 'https://query1.finance.yahoo.com/v7/finance/quote'\n",
    "    name_querystring = {\"symbols\": stock}\n",
    "    try:\n",
    "        name_response = requests.request(\"GET\", name_url, headers=header_var, params=name_querystring)\n",
    "        name_response.raise_for_status()\n",
    "    except requests.exceptions.HTTPError as errh:\n",
    "        return f\"This stock '{stock}' does not exist: \" + repr(errh)\n",
    "    except requests.exceptions.ConnectionError as errc:\n",
    "        return \"Connection Error\" + repr(errc)\n",
    "    except requests.exceptions.Timeout as errt:\n",
    "        return \"Time error please try again: \" + repr(errt)\n",
    "    except requests.exceptions.RequestException as err:\n",
    "        return \"4: \" + repr(err)\n",
    "    name_json = name_response.json()\n",
    "    ticker_name = name_json['quoteResponse']['result'][0]['symbol']\n",
    "    full_name = name_json['quoteResponse']['result'][0]['longName']\n",
    "    name_list = ['Ticker', 'Full Name', 'Current Price', 'Target Mean Price', 'Cash on Hand', 'Profit Margin']\n",
    "    value_list = [ticker_name, full_name,current_price, target_mean_price, cash_on_hand, profit_margin]\n",
    "    data_dictionary = {'Attributes': name_list, \"Values\": value_list}\n",
    "    json_dictionary = {\n",
    "        \"Ticker\": ticker_name, \n",
    "        \"Full Name\": full_name, \n",
    "        \"Current Price\": current_price, \n",
    "        \"Target Mean Price\": target_mean_price, \n",
    "        \"Cash on Hand\": cash_on_hand, \n",
    "        \"Profit Margins\": profit_margin}\n",
    "\n",
    "\n",
    "    if response_type == 'json':\n",
    "        with open('lab04.json', 'w') as outfile:\n",
    "            json.dump(json_dictionary, outfile)\n",
    "        print(\"File written to json\")\n",
    "        result = json.dumps(json_dictionary, indent=4)\n",
    "    elif response_type == 'dataframe':\n",
    "        \n",
    "        dataframe = pd.DataFrame.from_dict(data_dictionary)\n",
    "        result = dataframe   \n",
    "    else:\n",
    "        result = \"An unhandled error has occurred!\"\n",
    "        \n",
    "    return result\n",
    "stock = 'AAPL'\n",
    "get_api_response(stock, 'json')"
   ]
  },
  {
   "cell_type": "markdown",
   "metadata": {},
   "source": [
    "#### Unit Testing function for bugs"
   ]
  }
 ],
 "metadata": {
  "kernelspec": {
   "display_name": "Python 3.10.6 64-bit",
   "language": "python",
   "name": "python3"
  },
  "language_info": {
   "codemirror_mode": {
    "name": "ipython",
    "version": 3
   },
   "file_extension": ".py",
   "mimetype": "text/x-python",
   "name": "python",
   "nbconvert_exporter": "python",
   "pygments_lexer": "ipython3",
   "version": "3.10.6"
  },
  "orig_nbformat": 4,
  "vscode": {
   "interpreter": {
    "hash": "aee8b7b246df8f9039afb4144a1f6fd8d2ca17a180786b69acc140d282b71a49"
   }
  }
 },
 "nbformat": 4,
 "nbformat_minor": 2
}
