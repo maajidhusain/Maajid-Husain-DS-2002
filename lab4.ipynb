{
 "cells": [
  {
   "cell_type": "markdown",
   "metadata": {},
   "source": [
    "## Using Yahoo finance API to track current stocks"
   ]
  },
  {
   "cell_type": "markdown",
   "metadata": {},
   "source": [
    "[Documentation for Yahoo Finance API](https://syncwith.com/yahoo-finance/yahoo-finance-api)"
   ]
  },
  {
   "cell_type": "markdown",
   "metadata": {},
   "source": [
    "### Learning Objectives\n",
    "1. Practice using Python to interact and call a public API sucessfully\n",
    "2. Look at the data within JSON and DataFrames\n",
    "3. Write data to local JSON file\n",
    "4. Use basic vizualization to display information\n",
    "5. Interact with users"
   ]
  },
  {
   "cell_type": "markdown",
   "metadata": {},
   "source": [
    "### Assignment tasks\n",
    "1. Takes user input for a stock (using Ticker Symbol): i.e. with the input() command\n",
    "2. Display back to the user: ```Name Ticker```, ```Full name of the Stock```, ```Current Price```, ```Target Mean Price```, ```Cash on Hand```, and ```Profit Margins```.\n",
    "3. Store results locally in JSON Format with just those items and include ```Date``` from when the data was pulled\n",
    "4. Handle Errors (i.e. if the stock doesn't exist and/or the API is not returning information)"
   ]
  },
  {
   "cell_type": "code",
   "execution_count": 7,
   "metadata": {},
   "outputs": [],
   "source": [
    "import os\n",
    "import json\n",
    "import pprint\n",
    "import requests\n",
    "import requests.exceptions\n",
    "import pandas as pd"
   ]
  },
  {
   "cell_type": "code",
   "execution_count": 8,
   "metadata": {},
   "outputs": [
    {
     "data": {
      "text/plain": [
       "'MSFT'"
      ]
     },
     "execution_count": 8,
     "metadata": {},
     "output_type": "execute_result"
    }
   ],
   "source": [
    "# Getting user input for desired stock\n",
    "stock = input()\n",
    "stock"
   ]
  },
  {
   "cell_type": "markdown",
   "metadata": {},
   "source": [
    "Setting in a base URL\n",
    "(https://query1.finance.yahoo.com/v6/finance/quote)"
   ]
  },
  {
   "cell_type": "code",
   "execution_count": 9,
   "metadata": {},
   "outputs": [
    {
     "data": {
      "text/plain": [
       "{'symbol': 'MSFT', 'modules': 'financialData'}"
      ]
     },
     "execution_count": 9,
     "metadata": {},
     "output_type": "execute_result"
    }
   ],
   "source": [
    "url = 'https://query1.finance.yahoo.com/v11/finance/quoteSummary/'\n",
    "querystring = {\"symbol\": stock, \"modules\": 'financialData'} #type dict\n",
    "querystring"
   ]
  },
  {
   "cell_type": "code",
   "execution_count": 10,
   "metadata": {},
   "outputs": [
    {
     "data": {
      "text/plain": [
       "b'{\"quoteSummary\":{\"result\":[{\"financialData\":{\"maxAge\":86400,\"currentPrice\":{\"raw\":228.56,\"fmt\":\"228.56\"},\"targetHighPrice\":{\"raw\":411.0,\"fmt\":\"411.00\"},\"targetLowPrice\":{\"raw\":275.0,\"fmt\":\"275.00\"},\"targetMeanPrice\":{\"raw\":329.65,\"fmt\":\"329.65\"},\"targetMedianPrice\":{\"raw\":327.5,\"fmt\":\"327.50\"},\"recommendationMean\":{\"raw\":1.7,\"fmt\":\"1.70\"},\"recommendationKey\":\"buy\",\"numberOfAnalystOpinions\":{\"raw\":44,\"fmt\":\"44\",\"longFmt\":\"44\"},\"totalCash\":{\"raw\":104748998656,\"fmt\":\"104.75B\",\"longFmt\":\"104,748,998,656\"},\"totalCashPerShare\":{\"raw\":14.045,\"fmt\":\"14.05\"},\"ebitda\":{\"raw\":97982996480,\"fmt\":\"97.98B\",\"longFmt\":\"97,982,996,480\"},\"totalDebt\":{\"raw\":78399995904,\"fmt\":\"78.4B\",\"longFmt\":\"78,399,995,904\"},\"quickRatio\":{\"raw\":1.567,\"fmt\":\"1.57\"},\"currentRatio\":{\"raw\":1.785,\"fmt\":\"1.78\"},\"totalRevenue\":{\"raw\":198269992960,\"fmt\":\"198.27B\",\"longFmt\":\"198,269,992,960\"},\"debtToEquity\":{\"raw\":47.075,\"fmt\":\"47.08\"},\"revenuePerShare\":{\"raw\":26.45,\"fmt\":\"26.45\"},\"returnOnAssets\":{\"raw\":0.14919,\"fmt\":\"14.92%\"},\"returnOnEquity\":{\"raw\":0.47151002,\"fmt\":\"47.15%\"},\"grossProfits\":{\"raw\":135620000000,\"fmt\":\"135.62B\",\"longFmt\":\"135,620,000,000\"},\"freeCashflow\":{\"raw\":49479000064,\"fmt\":\"49.48B\",\"longFmt\":\"49,479,000,064\"},\"operatingCashflow\":{\"raw\":89034997760,\"fmt\":\"89.03B\",\"longFmt\":\"89,034,997,760\"},\"earningsGrowth\":{\"raw\":0.031,\"fmt\":\"3.10%\"},\"revenueGrowth\":{\"raw\":0.124,\"fmt\":\"12.40%\"},\"grossMargins\":{\"raw\":0.68402,\"fmt\":\"68.40%\"},\"ebitdaMargins\":{\"raw\":0.49418998,\"fmt\":\"49.42%\"},\"operatingMargins\":{\"raw\":0.42055,\"fmt\":\"42.05%\"},\"profitMargins\":{\"raw\":0.36686,\"fmt\":\"36.69%\"},\"financialCurrency\":\"USD\"}}],\"error\":null}}'"
      ]
     },
     "execution_count": 10,
     "metadata": {},
     "output_type": "execute_result"
    }
   ],
   "source": [
    "header_var ={'User-Agent': 'Mozilla/5.0 (Macintosh; Intel Mac OS X 10_10_1) AppleWebKit/537.36 (KHTML, like Gecko) Chrome/39.0.2171.95 Safari/537.36'}\n",
    "response = requests.request(\"GET\",url, headers=header_var, params=querystring)\n",
    "response.content"
   ]
  },
  {
   "cell_type": "code",
   "execution_count": 11,
   "metadata": {},
   "outputs": [
    {
     "data": {
      "text/plain": [
       "{'quoteSummary': {'result': [{'financialData': {'maxAge': 86400,\n",
       "     'currentPrice': {'raw': 228.56, 'fmt': '228.56'},\n",
       "     'targetHighPrice': {'raw': 411.0, 'fmt': '411.00'},\n",
       "     'targetLowPrice': {'raw': 275.0, 'fmt': '275.00'},\n",
       "     'targetMeanPrice': {'raw': 329.65, 'fmt': '329.65'},\n",
       "     'targetMedianPrice': {'raw': 327.5, 'fmt': '327.50'},\n",
       "     'recommendationMean': {'raw': 1.7, 'fmt': '1.70'},\n",
       "     'recommendationKey': 'buy',\n",
       "     'numberOfAnalystOpinions': {'raw': 44, 'fmt': '44', 'longFmt': '44'},\n",
       "     'totalCash': {'raw': 104748998656,\n",
       "      'fmt': '104.75B',\n",
       "      'longFmt': '104,748,998,656'},\n",
       "     'totalCashPerShare': {'raw': 14.045, 'fmt': '14.05'},\n",
       "     'ebitda': {'raw': 97982996480,\n",
       "      'fmt': '97.98B',\n",
       "      'longFmt': '97,982,996,480'},\n",
       "     'totalDebt': {'raw': 78399995904,\n",
       "      'fmt': '78.4B',\n",
       "      'longFmt': '78,399,995,904'},\n",
       "     'quickRatio': {'raw': 1.567, 'fmt': '1.57'},\n",
       "     'currentRatio': {'raw': 1.785, 'fmt': '1.78'},\n",
       "     'totalRevenue': {'raw': 198269992960,\n",
       "      'fmt': '198.27B',\n",
       "      'longFmt': '198,269,992,960'},\n",
       "     'debtToEquity': {'raw': 47.075, 'fmt': '47.08'},\n",
       "     'revenuePerShare': {'raw': 26.45, 'fmt': '26.45'},\n",
       "     'returnOnAssets': {'raw': 0.14919, 'fmt': '14.92%'},\n",
       "     'returnOnEquity': {'raw': 0.47151002, 'fmt': '47.15%'},\n",
       "     'grossProfits': {'raw': 135620000000,\n",
       "      'fmt': '135.62B',\n",
       "      'longFmt': '135,620,000,000'},\n",
       "     'freeCashflow': {'raw': 49479000064,\n",
       "      'fmt': '49.48B',\n",
       "      'longFmt': '49,479,000,064'},\n",
       "     'operatingCashflow': {'raw': 89034997760,\n",
       "      'fmt': '89.03B',\n",
       "      'longFmt': '89,034,997,760'},\n",
       "     'earningsGrowth': {'raw': 0.031, 'fmt': '3.10%'},\n",
       "     'revenueGrowth': {'raw': 0.124, 'fmt': '12.40%'},\n",
       "     'grossMargins': {'raw': 0.68402, 'fmt': '68.40%'},\n",
       "     'ebitdaMargins': {'raw': 0.49418998, 'fmt': '49.42%'},\n",
       "     'operatingMargins': {'raw': 0.42055, 'fmt': '42.05%'},\n",
       "     'profitMargins': {'raw': 0.36686, 'fmt': '36.69%'},\n",
       "     'financialCurrency': 'USD'}}],\n",
       "  'error': None}}"
      ]
     },
     "execution_count": 11,
     "metadata": {},
     "output_type": "execute_result"
    }
   ],
   "source": [
    "stock_json = response.json()\n",
    "stock_json"
   ]
  },
  {
   "cell_type": "markdown",
   "metadata": {},
   "source": [
    "#### Variables included in financialData module\n",
    "```Current Price```, ```Target Mean Price```, ```Cash on Hand```, and ```Profit Margins```."
   ]
  },
  {
   "cell_type": "code",
   "execution_count": 12,
   "metadata": {},
   "outputs": [],
   "source": [
    "#longName = stock_json['quoteSummary']['result'][0]['financialData']\n",
    "#ticker = stock_json['quoteSummary']['result'][0]['symbol']\n",
    "#currentPrice = stock_json['quoteSummary']['result'][0]['currentPrice']['fmt']\n",
    "current_price = stock_json['quoteSummary']['result'][0]['financialData']['currentPrice']['raw']\n",
    "target_mean_price = stock_json['quoteSummary']['result'][0]['financialData']['targetMeanPrice']['raw']\n",
    "cash_on_hand = stock_json['quoteSummary']['result'][0]['financialData']['totalCash']['raw']\n",
    "profit_margin = stock_json['quoteSummary']['result'][0]['financialData']['profitMargins']['raw']\n"
   ]
  },
  {
   "cell_type": "markdown",
   "metadata": {},
   "source": [
    "### Getting the name data from another API call"
   ]
  },
  {
   "cell_type": "code",
   "execution_count": 13,
   "metadata": {},
   "outputs": [],
   "source": [
    "url2 = 'https://query1.finance.yahoo.com/v7/finance/quote'\n",
    "string_query = {\"symbols\": stock}\n",
    "names = requests.request(\"GET\", url2, headers=header_var, params=string_query)\n",
    "name_json = names.json()\n",
    "ticker_name = name_json['quoteResponse']['result'][0]['symbol']\n",
    "full_name = name_json['quoteResponse']['result'][0]['longName']"
   ]
  },
  {
   "cell_type": "markdown",
   "metadata": {},
   "source": [
    "### Adding responses to dataframe"
   ]
  },
  {
   "cell_type": "code",
   "execution_count": 14,
   "metadata": {},
   "outputs": [
    {
     "data": {
      "text/html": [
       "<div>\n",
       "<style scoped>\n",
       "    .dataframe tbody tr th:only-of-type {\n",
       "        vertical-align: middle;\n",
       "    }\n",
       "\n",
       "    .dataframe tbody tr th {\n",
       "        vertical-align: top;\n",
       "    }\n",
       "\n",
       "    .dataframe thead th {\n",
       "        text-align: right;\n",
       "    }\n",
       "</style>\n",
       "<table border=\"1\" class=\"dataframe\">\n",
       "  <thead>\n",
       "    <tr style=\"text-align: right;\">\n",
       "      <th></th>\n",
       "      <th>Attributes</th>\n",
       "      <th>Values</th>\n",
       "    </tr>\n",
       "  </thead>\n",
       "  <tbody>\n",
       "    <tr>\n",
       "      <th>0</th>\n",
       "      <td>Ticker</td>\n",
       "      <td>MSFT</td>\n",
       "    </tr>\n",
       "    <tr>\n",
       "      <th>1</th>\n",
       "      <td>Full Name</td>\n",
       "      <td>Microsoft Corporation</td>\n",
       "    </tr>\n",
       "    <tr>\n",
       "      <th>2</th>\n",
       "      <td>Current Price</td>\n",
       "      <td>228.56</td>\n",
       "    </tr>\n",
       "    <tr>\n",
       "      <th>3</th>\n",
       "      <td>Target Mean Price</td>\n",
       "      <td>329.65</td>\n",
       "    </tr>\n",
       "    <tr>\n",
       "      <th>4</th>\n",
       "      <td>Cash on Hand</td>\n",
       "      <td>104748998656</td>\n",
       "    </tr>\n",
       "    <tr>\n",
       "      <th>5</th>\n",
       "      <td>Profit Margin</td>\n",
       "      <td>0.36686</td>\n",
       "    </tr>\n",
       "  </tbody>\n",
       "</table>\n",
       "</div>"
      ],
      "text/plain": [
       "          Attributes                 Values\n",
       "0             Ticker                   MSFT\n",
       "1          Full Name  Microsoft Corporation\n",
       "2      Current Price                 228.56\n",
       "3  Target Mean Price                 329.65\n",
       "4       Cash on Hand           104748998656\n",
       "5      Profit Margin                0.36686"
      ]
     },
     "execution_count": 14,
     "metadata": {},
     "output_type": "execute_result"
    }
   ],
   "source": [
    "name_list = ['Ticker', 'Full Name', 'Current Price', 'Target Mean Price', 'Cash on Hand', 'Profit Margin']\n",
    "value_list = [ticker_name, full_name,current_price, target_mean_price, cash_on_hand, profit_margin]\n",
    "financial_data_dict = {'Attributes': name_list, \"Values\": value_list}\n",
    "financial_data = {\"Ticker\": ticker_name, \"Full Name\": full_name, \"Current Price\": current_price, \"Target Mean Price\": target_mean_price, \"Cash on Hand\": cash_on_hand, \"Profit Margins\": profit_margin}\n",
    "dataframe = pd.DataFrame.from_dict(financial_data_dict)\n",
    "dataframe"
   ]
  },
  {
   "cell_type": "markdown",
   "metadata": {},
   "source": []
  }
 ],
 "metadata": {
  "kernelspec": {
   "display_name": "Python 3.10.6 64-bit",
   "language": "python",
   "name": "python3"
  },
  "language_info": {
   "codemirror_mode": {
    "name": "ipython",
    "version": 3
   },
   "file_extension": ".py",
   "mimetype": "text/x-python",
   "name": "python",
   "nbconvert_exporter": "python",
   "pygments_lexer": "ipython3",
   "version": "3.10.6"
  },
  "orig_nbformat": 4,
  "vscode": {
   "interpreter": {
    "hash": "aee8b7b246df8f9039afb4144a1f6fd8d2ca17a180786b69acc140d282b71a49"
   }
  }
 },
 "nbformat": 4,
 "nbformat_minor": 2
}
