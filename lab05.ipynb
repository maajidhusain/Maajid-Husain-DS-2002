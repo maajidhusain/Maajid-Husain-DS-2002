{
 "cells": [
  {
   "cell_type": "markdown",
   "metadata": {},
   "source": [
    "# Lab 05: Web Scraping\n",
    "Assignment Goal: Use web scraping [BeautifulSoup](https://beautiful-soup-4.readthedocs.io/en/latest/) to get data from the [national weather service](https://www.weather.gov)\n",
    "\n",
    "Authors:\n",
    "- Maajid Husain | mah2ksc\n",
    "- Ravza Akyan | qjk9rq"
   ]
  },
  {
   "cell_type": "code",
   "execution_count": 4,
   "metadata": {},
   "outputs": [],
   "source": [
    "import pandas as pd\n",
    "from pymongo import MongoClient\n",
    "import json"
   ]
  },
  {
   "cell_type": "markdown",
   "metadata": {},
   "source": [
    "### Getting Longitude and Latitude From User Zipcode\n",
    "Used [pgeocode](https://pypi.org/project/pgeocode/) library to extract US only zipcodes. \n",
    "\n",
    "**Need to have ```pgeocode``` library installed for application to run correctly**\n",
    "\n",
    "Returns a list with indexes pointing to:\n",
    "1. Latitude\n",
    "2. Longitude\n",
    "\n"
   ]
  },
  {
   "cell_type": "code",
   "execution_count": 3,
   "metadata": {},
   "outputs": [],
   "source": [
    "import pgeocode\n",
    "def get_lat_long(postal_code):\n",
    "    nomi = pgeocode.Nominatim('US')\n",
    "    lat_long = nomi.query_postal_code(postal_code)\n",
    "    list_lat_long = [lat_long.latitude, lat_long.longitude]\n",
    "    return list_lat_long"
   ]
  },
  {
   "cell_type": "markdown",
   "metadata": {},
   "source": [
    "### Webscraping to get data from national weather service\n",
    "Intructions for use:\n",
    "- run the cell and input your zipcode\n",
    "How the code works:\n",
    "- converts the zipcode into longitude and latitude\n",
    "- uses the coordinates to create a url for local weather data from the National Weather Service (will exit if location is invalid)\n",
    "- scrapes data from "
   ]
  },
  {
   "cell_type": "code",
   "execution_count": 6,
   "metadata": {},
   "outputs": [],
   "source": [
    "from bs4 import BeautifulSoup\n",
    "import requests\n",
    "import sys\n",
    "def __get_requests__(zipcode):\n",
    "    lat_long = get_lat_long(zipcode)\n",
    "    URL = f\"https://forecast.weather.gov/MapClick.php?lat={lat_long[0]}&lon={lat_long[1]}\"\n",
    "    try:   \n",
    "        r = requests.get(URL)\n",
    "    except requests.exceptions.RequestException as e:  \n",
    "        print(e)\n",
    "        sys.exit(1)\n",
    "    return r\n",
    "def get_seven_day_data(zipcode):\n",
    "    r = __get_requests__(zipcode)\n",
    "    soup = BeautifulSoup(r.content, 'html5lib')\n",
    "    sevenday = soup.find('div', attrs = {'id':'seven-day-forecast-body'})\n",
    "    period_names = [pt.get_text() for pt in sevenday.select(\".tombstone-container .period-name\")]\n",
    "    short_desc = [sd.get_text() for sd in sevenday.select(\".tombstone-container .short-desc\")]\n",
    "    temperatures = [t.get_text() for t in sevenday.select(\".tombstone-container .temp\")]\n",
    "    desc = [d[\"title\"] for d in sevenday.select(\".tombstone-container img\")]\n",
    "    df = pd.DataFrame(zip(period_names, short_desc, temperatures, desc), columns=['period', 'short_desc', 'temp', 'desc'])\n",
    "    return df"
   ]
  },
  {
   "cell_type": "code",
   "execution_count": 5,
   "metadata": {},
   "outputs": [],
   "source": [
    "def get_tonight_data(zipcode):\n",
    "    r = __get_requests__(zipcode)\n",
    "    soup = BeautifulSoup(r.content, 'html5lib')\n",
    "    data = [data.get_text() for data in soup.select(\"td\")]\n",
    "    data_dict = {\n",
    "        'Humidity': data[1],\n",
    "        'Wind': data[3],\n",
    "        'Barometer': data[5],\n",
    "        'Dewpoint': data[7],\n",
    "        'Visibility': data[9],\n",
    "        'Last Update': data[11],\n",
    "    }\n",
    "    tonight_df = pd.DataFrame(data_dict, index=[0])\n",
    "    return tonight_df\n"
   ]
  },
  {
   "cell_type": "markdown",
   "metadata": {},
   "source": [
    "### Run the Below Cells for weather information\n",
    "- when prompted, input zipcode (5 digits only) and run the next two cells to get dataframe outputs from the national weather service"
   ]
  },
  {
   "cell_type": "code",
   "execution_count": 7,
   "metadata": {},
   "outputs": [
    {
     "data": {
      "text/html": [
       "<div>\n",
       "<style scoped>\n",
       "    .dataframe tbody tr th:only-of-type {\n",
       "        vertical-align: middle;\n",
       "    }\n",
       "\n",
       "    .dataframe tbody tr th {\n",
       "        vertical-align: top;\n",
       "    }\n",
       "\n",
       "    .dataframe thead th {\n",
       "        text-align: right;\n",
       "    }\n",
       "</style>\n",
       "<table border=\"1\" class=\"dataframe\">\n",
       "  <thead>\n",
       "    <tr style=\"text-align: right;\">\n",
       "      <th></th>\n",
       "      <th>period</th>\n",
       "      <th>short_desc</th>\n",
       "      <th>temp</th>\n",
       "      <th>desc</th>\n",
       "    </tr>\n",
       "  </thead>\n",
       "  <tbody>\n",
       "    <tr>\n",
       "      <th>0</th>\n",
       "      <td>Tonight</td>\n",
       "      <td>IsolatedShowers</td>\n",
       "      <td>Low: 40 °F</td>\n",
       "      <td>Tonight: Isolated showers before 3am.  Cloudy ...</td>\n",
       "    </tr>\n",
       "    <tr>\n",
       "      <th>1</th>\n",
       "      <td>Sunday</td>\n",
       "      <td>Sunny</td>\n",
       "      <td>High: 51 °F</td>\n",
       "      <td>Sunday: Sunny, with a high near 51. Northwest ...</td>\n",
       "    </tr>\n",
       "    <tr>\n",
       "      <th>2</th>\n",
       "      <td>SundayNight</td>\n",
       "      <td>Clear</td>\n",
       "      <td>Low: 29 °F</td>\n",
       "      <td>Sunday Night: Clear, with a low around 29. Nor...</td>\n",
       "    </tr>\n",
       "    <tr>\n",
       "      <th>3</th>\n",
       "      <td>Monday</td>\n",
       "      <td>Sunny</td>\n",
       "      <td>High: 49 °F</td>\n",
       "      <td>Monday: Sunny, with a high near 49. Light and ...</td>\n",
       "    </tr>\n",
       "    <tr>\n",
       "      <th>4</th>\n",
       "      <td>MondayNight</td>\n",
       "      <td>Partly Cloudy</td>\n",
       "      <td>Low: 30 °F</td>\n",
       "      <td>Monday Night: Partly cloudy, with a low around...</td>\n",
       "    </tr>\n",
       "    <tr>\n",
       "      <th>5</th>\n",
       "      <td>Tuesday</td>\n",
       "      <td>Wintry MixLikely</td>\n",
       "      <td>High: 44 °F</td>\n",
       "      <td>Tuesday: Rain and freezing rain likely, possib...</td>\n",
       "    </tr>\n",
       "    <tr>\n",
       "      <th>6</th>\n",
       "      <td>TuesdayNight</td>\n",
       "      <td>Rain Likely</td>\n",
       "      <td>Low: 37 °F</td>\n",
       "      <td>Tuesday Night: Rain likely.  Cloudy, with a lo...</td>\n",
       "    </tr>\n",
       "    <tr>\n",
       "      <th>7</th>\n",
       "      <td>Wednesday</td>\n",
       "      <td>Partly Sunny</td>\n",
       "      <td>High: 52 °F</td>\n",
       "      <td>Wednesday: Partly sunny, with a high near 52.</td>\n",
       "    </tr>\n",
       "    <tr>\n",
       "      <th>8</th>\n",
       "      <td>WednesdayNight</td>\n",
       "      <td>Partly Cloudy</td>\n",
       "      <td>Low: 32 °F</td>\n",
       "      <td>Wednesday Night: Partly cloudy, with a low aro...</td>\n",
       "    </tr>\n",
       "  </tbody>\n",
       "</table>\n",
       "</div>"
      ],
      "text/plain": [
       "           period        short_desc         temp  \\\n",
       "0         Tonight   IsolatedShowers   Low: 40 °F   \n",
       "1          Sunday             Sunny  High: 51 °F   \n",
       "2     SundayNight             Clear   Low: 29 °F   \n",
       "3          Monday             Sunny  High: 49 °F   \n",
       "4     MondayNight     Partly Cloudy   Low: 30 °F   \n",
       "5         Tuesday  Wintry MixLikely  High: 44 °F   \n",
       "6    TuesdayNight       Rain Likely   Low: 37 °F   \n",
       "7       Wednesday      Partly Sunny  High: 52 °F   \n",
       "8  WednesdayNight     Partly Cloudy   Low: 32 °F   \n",
       "\n",
       "                                                desc  \n",
       "0  Tonight: Isolated showers before 3am.  Cloudy ...  \n",
       "1  Sunday: Sunny, with a high near 51. Northwest ...  \n",
       "2  Sunday Night: Clear, with a low around 29. Nor...  \n",
       "3  Monday: Sunny, with a high near 49. Light and ...  \n",
       "4  Monday Night: Partly cloudy, with a low around...  \n",
       "5  Tuesday: Rain and freezing rain likely, possib...  \n",
       "6  Tuesday Night: Rain likely.  Cloudy, with a lo...  \n",
       "7      Wednesday: Partly sunny, with a high near 52.  \n",
       "8  Wednesday Night: Partly cloudy, with a low aro...  "
      ]
     },
     "execution_count": 7,
     "metadata": {},
     "output_type": "execute_result"
    }
   ],
   "source": [
    "zipcode = input()\n",
    "df = get_seven_day_data(zipcode)\n",
    "df"
   ]
  },
  {
   "cell_type": "code",
   "execution_count": 8,
   "metadata": {},
   "outputs": [
    {
     "data": {
      "text/html": [
       "<div>\n",
       "<style scoped>\n",
       "    .dataframe tbody tr th:only-of-type {\n",
       "        vertical-align: middle;\n",
       "    }\n",
       "\n",
       "    .dataframe tbody tr th {\n",
       "        vertical-align: top;\n",
       "    }\n",
       "\n",
       "    .dataframe thead th {\n",
       "        text-align: right;\n",
       "    }\n",
       "</style>\n",
       "<table border=\"1\" class=\"dataframe\">\n",
       "  <thead>\n",
       "    <tr style=\"text-align: right;\">\n",
       "      <th></th>\n",
       "      <th>Humidity</th>\n",
       "      <th>Wind</th>\n",
       "      <th>Barometer</th>\n",
       "      <th>Dewpoint</th>\n",
       "      <th>Visibility</th>\n",
       "      <th>Last Update</th>\n",
       "    </tr>\n",
       "  </thead>\n",
       "  <tbody>\n",
       "    <tr>\n",
       "      <th>0</th>\n",
       "      <td>59%</td>\n",
       "      <td>NA</td>\n",
       "      <td>29.77 in (1007.5 mb)</td>\n",
       "      <td>52°F (11°C)</td>\n",
       "      <td>10.00 mi</td>\n",
       "      <td>\\n                12 Nov 8:53 pm EST</td>\n",
       "    </tr>\n",
       "  </tbody>\n",
       "</table>\n",
       "</div>"
      ],
      "text/plain": [
       "  Humidity Wind             Barometer     Dewpoint Visibility  \\\n",
       "0      59%   NA  29.77 in (1007.5 mb)  52°F (11°C)   10.00 mi   \n",
       "\n",
       "                                        Last Update  \n",
       "0  \\n                12 Nov 8:53 pm EST              "
      ]
     },
     "execution_count": 8,
     "metadata": {},
     "output_type": "execute_result"
    }
   ],
   "source": [
    "tonight_df = get_tonight_data(zipcode)\n",
    "tonight_df"
   ]
  },
  {
   "cell_type": "markdown",
   "metadata": {},
   "source": [
    "### Loading Data in MongoDB\n",
    "How to run the code:\n",
    "- just run the cells\n",
    "How the code works:\n",
    "- creates a local instance of a mongo db\n",
    "- creates a database in the client connection called 'weather_data'\n",
    "- inserts json version of above dataframes into local instance of mongo database\n",
    "- last cell shows an output of what was inserted"
   ]
  },
  {
   "cell_type": "code",
   "execution_count": 186,
   "metadata": {},
   "outputs": [
    {
     "name": "stdout",
     "output_type": "stream",
     "text": [
      "Local Connection String: mongodb://localhost:27017/\n",
      "['admin', 'config', 'local']\n"
     ]
    }
   ],
   "source": [
    "host_name = \"localhost\"\n",
    "port = \"27017\"\n",
    "\n",
    "atlas_cluster_name = \"sandbox\"\n",
    "atlas_default_dbname = \"local\"\n",
    "conn_str = {\n",
    "    \"local\" : f\"mongodb://{host_name}:{port}/\"\n",
    "    }\n",
    "\n",
    "client = MongoClient('localhost', 27017)\n",
    "\n",
    "print(f\"Local Connection String: {conn_str['local']}\")\n",
    "print(client.list_database_names())"
   ]
  },
  {
   "cell_type": "code",
   "execution_count": 194,
   "metadata": {},
   "outputs": [
    {
     "name": "stdout",
     "output_type": "stream",
     "text": [
      "['posts']\n"
     ]
    },
    {
     "data": {
      "text/plain": [
       "<pymongo.results.InsertOneResult at 0x12e1eec80>"
      ]
     },
     "execution_count": 194,
     "metadata": {},
     "output_type": "execute_result"
    }
   ],
   "source": [
    "db_name = \"weather_data\"\n",
    "db = client[db_name] #mydb\n",
    "db['weather_data'].insert_one(json.loads(get_seven_day_data(zipcode).to_json()))\n",
    "db['weather_data'].insert_one(json.loads(get_tonight_data(zipcode).to_json()))\n"
   ]
  },
  {
   "cell_type": "code",
   "execution_count": 196,
   "metadata": {},
   "outputs": [
    {
     "data": {
      "text/plain": [
       "{'_id': ObjectId('636c79bccb9063f29f34e4c8'),\n",
       " 'period': {'0': 'Tonight',\n",
       "  '1': 'Thursday',\n",
       "  '2': 'ThursdayNight',\n",
       "  '3': 'VeteransDay',\n",
       "  '4': 'FridayNight',\n",
       "  '5': 'Saturday',\n",
       "  '6': 'SaturdayNight',\n",
       "  '7': 'Sunday',\n",
       "  '8': 'SundayNight'},\n",
       " 'short_desc': {'0': 'Partly Cloudy',\n",
       "  '1': 'Mostly Cloudy',\n",
       "  '2': 'Cloudy thenShowers',\n",
       "  '3': 'Showers',\n",
       "  '4': 'ShowersLikely',\n",
       "  '5': 'Sunny',\n",
       "  '6': 'Mostly Cloudy',\n",
       "  '7': 'Sunny',\n",
       "  '8': 'Mostly Clear'},\n",
       " 'temp': {'0': 'Low: 45 °F',\n",
       "  '1': 'High: 65 °F',\n",
       "  '2': 'Low: 56 °F',\n",
       "  '3': 'High: 70 °F',\n",
       "  '4': 'Low: 56 °F',\n",
       "  '5': 'High: 66 °F',\n",
       "  '6': 'Low: 39 °F',\n",
       "  '7': 'High: 49 °F',\n",
       "  '8': 'Low: 27 °F'},\n",
       " 'desc': {'0': 'Tonight: Partly cloudy, with a low around 45. Light north wind. ',\n",
       "  '1': 'Thursday: Mostly cloudy, with a high near 65. Light and variable wind becoming southeast 5 to 7 mph in the afternoon. ',\n",
       "  '2': 'Thursday Night: Showers after 1am.  Low around 56. Light northeast wind.  Chance of precipitation is 80%. New precipitation amounts between a quarter and half of an inch possible. ',\n",
       "  '3': 'Veterans Day: Showers and possibly a thunderstorm.  High near 70. Northeast wind 5 to 11 mph becoming southeast in the afternoon. Winds could gust as high as 21 mph.  Chance of precipitation is 100%. New rainfall amounts between 1 and 2 inches possible. ',\n",
       "  '4': 'Friday Night: Showers likely, mainly before 1am.  Mostly cloudy, with a low around 56. Southeast wind 9 to 11 mph becoming west after midnight. Winds could gust as high as 22 mph.  Chance of precipitation is 70%.',\n",
       "  '5': 'Saturday: Sunny, with a high near 66.',\n",
       "  '6': 'Saturday Night: Mostly cloudy, with a low around 39.',\n",
       "  '7': 'Sunday: Sunny, with a high near 49.',\n",
       "  '8': 'Sunday Night: Mostly clear, with a low around 27.'}}"
      ]
     },
     "execution_count": 196,
     "metadata": {},
     "output_type": "execute_result"
    }
   ],
   "source": [
    "db['weather_data'].find_one()"
   ]
  }
 ],
 "metadata": {
  "kernelspec": {
   "display_name": "Python 3.10.6 64-bit",
   "language": "python",
   "name": "python3"
  },
  "language_info": {
   "codemirror_mode": {
    "name": "ipython",
    "version": 3
   },
   "file_extension": ".py",
   "mimetype": "text/x-python",
   "name": "python",
   "nbconvert_exporter": "python",
   "pygments_lexer": "ipython3",
   "version": "3.10.8"
  },
  "orig_nbformat": 4,
  "vscode": {
   "interpreter": {
    "hash": "aee8b7b246df8f9039afb4144a1f6fd8d2ca17a180786b69acc140d282b71a49"
   }
  }
 },
 "nbformat": 4,
 "nbformat_minor": 2
}
