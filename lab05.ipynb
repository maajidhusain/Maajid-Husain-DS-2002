{
 "cells": [
  {
   "cell_type": "markdown",
   "metadata": {},
   "source": [
    "# Lab 05: Web Scraping\n",
    "Assignment Goal: Use web scraping [BeautifulSoup](https://beautiful-soup-4.readthedocs.io/en/latest/) to get data from the [national weather service](https://www.weather.gov)"
   ]
  },
  {
   "cell_type": "code",
   "execution_count": 145,
   "metadata": {},
   "outputs": [],
   "source": [
    "import pandas as pd\n",
    "from pymongo import MongoClient\n",
    "import json"
   ]
  },
  {
   "cell_type": "markdown",
   "metadata": {},
   "source": [
    "### Getting Longitude and Latitude From User Zipcode\n",
    "Used [pgeocode](https://pypi.org/project/pgeocode/) library to extract US only zipcodes. \n",
    "\n",
    "**Need to have ```pgeocode``` library installed for application to run correctly**\n",
    "\n",
    "Returns a list with indexes pointing to:\n",
    "1. Latitude\n",
    "2. Longitude\n",
    "\n"
   ]
  },
  {
   "cell_type": "code",
   "execution_count": 50,
   "metadata": {},
   "outputs": [
    {
     "data": {
      "text/plain": [
       "[38.0339, -78.4924]"
      ]
     },
     "execution_count": 50,
     "metadata": {},
     "output_type": "execute_result"
    }
   ],
   "source": [
    "import pgeocode\n",
    "def get_lat_long(postal_code):\n",
    "    nomi = pgeocode.Nominatim('US')\n",
    "    lat_long = nomi.query_postal_code(postal_code)\n",
    "    list_lat_long = [lat_long.latitude, lat_long.longitude]\n",
    "    return list_lat_long"
   ]
  },
  {
   "cell_type": "markdown",
   "metadata": {},
   "source": [
    "### Webscraping to get data from national weather service\n",
    "Intructions for use:\n",
    "- run the cell and input your zipcode\n",
    "How the code works:\n",
    "- converts the zipcode into longitude and latitude\n",
    "- uses the coordinates to create a url for local weather data from the National Weather Service (will exit if location is invalid)\n",
    "- scrapes data from "
   ]
  },
  {
   "cell_type": "code",
   "execution_count": 200,
   "metadata": {},
   "outputs": [],
   "source": [
    "from bs4 import BeautifulSoup\n",
    "import requests\n",
    "import sys\n",
    "def __get_requests__(zipcode):\n",
    "    lat_long = get_lat_long(zipcode)\n",
    "    URL = f\"https://forecast.weather.gov/MapClick.php?lat={lat_long[0]}&lon={lat_long[1]}\"\n",
    "    try:   \n",
    "        r = requests.get(URL)\n",
    "    except requests.exceptions.RequestException as e:  \n",
    "        print(e)\n",
    "        sys.exit(1)\n",
    "    return r\n",
    "def get_seven_day_data(zipcode):\n",
    "    r = __get_requests__(zipcode)\n",
    "    soup = BeautifulSoup(r.content, 'html5lib')\n",
    "    sevenday = soup.find('div', attrs = {'id':'seven-day-forecast-body'})\n",
    "    period_names = [pt.get_text() for pt in sevenday.select(\".tombstone-container .period-name\")]\n",
    "    short_desc = [sd.get_text() for sd in sevenday.select(\".tombstone-container .short-desc\")]\n",
    "    temperatures = [t.get_text() for t in sevenday.select(\".tombstone-container .temp\")]\n",
    "    desc = [d[\"title\"] for d in sevenday.select(\".tombstone-container img\")]\n",
    "    df = pd.DataFrame(zip(period_names, short_desc, temperatures, desc), columns=['period', 'short_desc', 'temp', 'desc'])\n",
    "    return df"
   ]
  },
  {
   "cell_type": "code",
   "execution_count": 201,
   "metadata": {},
   "outputs": [
    {
     "name": "stdout",
     "output_type": "stream",
     "text": [
      "     Period Short Description Temperature Description\n",
      "0  Humidity        Wind Speed   Barometer    Dewpoint\n"
     ]
    }
   ],
   "source": [
    "def get_tonight_data(zipcode):\n",
    "    r = __get_requests__(zipcode)\n",
    "    soup = BeautifulSoup(r.content, 'html5lib')\n",
    "    data = [data.get_text() for data in soup.select(\"td\")]\n",
    "    data_dict = {\n",
    "        'Humidity': data[1],\n",
    "        'Wind': data[3],\n",
    "        'Barometer': data[5],\n",
    "        'Dewpoint': data[7],\n",
    "        'Visibility': data[9],\n",
    "        'Last Update': data[11],\n",
    "    }\n",
    "    tonight_df = pd.DataFrame(data_dict, index=[0])\n",
    "    return tonight_df\n"
   ]
  },
  {
   "cell_type": "markdown",
   "metadata": {},
   "source": [
    "### Run the Below Cells for weather information\n",
    "- when prompted, input zipcode (5 digits only) and run the next two cells to get dataframe outputs from the national weather service"
   ]
  },
  {
   "cell_type": "code",
   "execution_count": 205,
   "metadata": {},
   "outputs": [
    {
     "data": {
      "text/html": [
       "<div>\n",
       "<style scoped>\n",
       "    .dataframe tbody tr th:only-of-type {\n",
       "        vertical-align: middle;\n",
       "    }\n",
       "\n",
       "    .dataframe tbody tr th {\n",
       "        vertical-align: top;\n",
       "    }\n",
       "\n",
       "    .dataframe thead th {\n",
       "        text-align: right;\n",
       "    }\n",
       "</style>\n",
       "<table border=\"1\" class=\"dataframe\">\n",
       "  <thead>\n",
       "    <tr style=\"text-align: right;\">\n",
       "      <th></th>\n",
       "      <th>period</th>\n",
       "      <th>short_desc</th>\n",
       "      <th>temp</th>\n",
       "      <th>desc</th>\n",
       "    </tr>\n",
       "  </thead>\n",
       "  <tbody>\n",
       "    <tr>\n",
       "      <th>0</th>\n",
       "      <td>Tonight</td>\n",
       "      <td>Partly Cloudy</td>\n",
       "      <td>Low: 45 °F</td>\n",
       "      <td>Tonight: Partly cloudy, with a low around 45. ...</td>\n",
       "    </tr>\n",
       "    <tr>\n",
       "      <th>1</th>\n",
       "      <td>Thursday</td>\n",
       "      <td>Mostly Cloudy</td>\n",
       "      <td>High: 65 °F</td>\n",
       "      <td>Thursday: Mostly cloudy, with a high near 65. ...</td>\n",
       "    </tr>\n",
       "    <tr>\n",
       "      <th>2</th>\n",
       "      <td>ThursdayNight</td>\n",
       "      <td>Cloudy thenShowers</td>\n",
       "      <td>Low: 56 °F</td>\n",
       "      <td>Thursday Night: Showers after 1am.  Low around...</td>\n",
       "    </tr>\n",
       "    <tr>\n",
       "      <th>3</th>\n",
       "      <td>VeteransDay</td>\n",
       "      <td>Showers</td>\n",
       "      <td>High: 70 °F</td>\n",
       "      <td>Veterans Day: Showers and possibly a thunderst...</td>\n",
       "    </tr>\n",
       "    <tr>\n",
       "      <th>4</th>\n",
       "      <td>FridayNight</td>\n",
       "      <td>ShowersLikely</td>\n",
       "      <td>Low: 56 °F</td>\n",
       "      <td>Friday Night: Showers likely, mainly before 1a...</td>\n",
       "    </tr>\n",
       "    <tr>\n",
       "      <th>5</th>\n",
       "      <td>Saturday</td>\n",
       "      <td>Sunny</td>\n",
       "      <td>High: 66 °F</td>\n",
       "      <td>Saturday: Sunny, with a high near 66.</td>\n",
       "    </tr>\n",
       "    <tr>\n",
       "      <th>6</th>\n",
       "      <td>SaturdayNight</td>\n",
       "      <td>Mostly Cloudy</td>\n",
       "      <td>Low: 39 °F</td>\n",
       "      <td>Saturday Night: Mostly cloudy, with a low arou...</td>\n",
       "    </tr>\n",
       "    <tr>\n",
       "      <th>7</th>\n",
       "      <td>Sunday</td>\n",
       "      <td>Sunny</td>\n",
       "      <td>High: 49 °F</td>\n",
       "      <td>Sunday: Sunny, with a high near 49.</td>\n",
       "    </tr>\n",
       "    <tr>\n",
       "      <th>8</th>\n",
       "      <td>SundayNight</td>\n",
       "      <td>Mostly Clear</td>\n",
       "      <td>Low: 27 °F</td>\n",
       "      <td>Sunday Night: Mostly clear, with a low around 27.</td>\n",
       "    </tr>\n",
       "  </tbody>\n",
       "</table>\n",
       "</div>"
      ],
      "text/plain": [
       "          period          short_desc         temp  \\\n",
       "0        Tonight       Partly Cloudy   Low: 45 °F   \n",
       "1       Thursday       Mostly Cloudy  High: 65 °F   \n",
       "2  ThursdayNight  Cloudy thenShowers   Low: 56 °F   \n",
       "3    VeteransDay             Showers  High: 70 °F   \n",
       "4    FridayNight       ShowersLikely   Low: 56 °F   \n",
       "5       Saturday               Sunny  High: 66 °F   \n",
       "6  SaturdayNight       Mostly Cloudy   Low: 39 °F   \n",
       "7         Sunday               Sunny  High: 49 °F   \n",
       "8    SundayNight        Mostly Clear   Low: 27 °F   \n",
       "\n",
       "                                                desc  \n",
       "0  Tonight: Partly cloudy, with a low around 45. ...  \n",
       "1  Thursday: Mostly cloudy, with a high near 65. ...  \n",
       "2  Thursday Night: Showers after 1am.  Low around...  \n",
       "3  Veterans Day: Showers and possibly a thunderst...  \n",
       "4  Friday Night: Showers likely, mainly before 1a...  \n",
       "5              Saturday: Sunny, with a high near 66.  \n",
       "6  Saturday Night: Mostly cloudy, with a low arou...  \n",
       "7                Sunday: Sunny, with a high near 49.  \n",
       "8  Sunday Night: Mostly clear, with a low around 27.  "
      ]
     },
     "execution_count": 205,
     "metadata": {},
     "output_type": "execute_result"
    }
   ],
   "source": [
    "zipcode = input()\n",
    "df = get_seven_day_data(zipcode)\n",
    "df"
   ]
  },
  {
   "cell_type": "code",
   "execution_count": 203,
   "metadata": {},
   "outputs": [
    {
     "data": {
      "text/html": [
       "<div>\n",
       "<style scoped>\n",
       "    .dataframe tbody tr th:only-of-type {\n",
       "        vertical-align: middle;\n",
       "    }\n",
       "\n",
       "    .dataframe tbody tr th {\n",
       "        vertical-align: top;\n",
       "    }\n",
       "\n",
       "    .dataframe thead th {\n",
       "        text-align: right;\n",
       "    }\n",
       "</style>\n",
       "<table border=\"1\" class=\"dataframe\">\n",
       "  <thead>\n",
       "    <tr style=\"text-align: right;\">\n",
       "      <th></th>\n",
       "      <th>Period</th>\n",
       "      <th>Short Description</th>\n",
       "      <th>Temperature</th>\n",
       "      <th>Description</th>\n",
       "    </tr>\n",
       "  </thead>\n",
       "  <tbody>\n",
       "    <tr>\n",
       "      <th>0</th>\n",
       "      <td>Humidity</td>\n",
       "      <td>Wind Speed</td>\n",
       "      <td>Barometer</td>\n",
       "      <td>Dewpoint</td>\n",
       "    </tr>\n",
       "  </tbody>\n",
       "</table>\n",
       "</div>"
      ],
      "text/plain": [
       "     Period Short Description Temperature Description\n",
       "0  Humidity        Wind Speed   Barometer    Dewpoint"
      ]
     },
     "execution_count": 203,
     "metadata": {},
     "output_type": "execute_result"
    }
   ],
   "source": [
    "tonight_df = get_tonight_data(zipcode)\n",
    "tonight_df"
   ]
  },
  {
   "cell_type": "markdown",
   "metadata": {},
   "source": [
    "### Loading Data in MongoDB\n",
    "How to run the code:\n",
    "- just run the cells\n",
    "How the code works:\n",
    "- creates a local instance of a mongo db\n",
    "- creates a database in the client connection called 'weather_data'\n",
    "- inserts json version of above dataframes into local instance of mongo database\n",
    "- last cell shows an output of what was inserted"
   ]
  },
  {
   "cell_type": "code",
   "execution_count": 186,
   "metadata": {},
   "outputs": [
    {
     "name": "stdout",
     "output_type": "stream",
     "text": [
      "Local Connection String: mongodb://localhost:27017/\n",
      "['admin', 'config', 'local']\n"
     ]
    }
   ],
   "source": [
    "host_name = \"localhost\"\n",
    "port = \"27017\"\n",
    "\n",
    "atlas_cluster_name = \"sandbox\"\n",
    "atlas_default_dbname = \"local\"\n",
    "conn_str = {\n",
    "    \"local\" : f\"mongodb://{host_name}:{port}/\"\n",
    "    }\n",
    "\n",
    "client = MongoClient('localhost', 27017)\n",
    "\n",
    "print(f\"Local Connection String: {conn_str['local']}\")\n",
    "print(client.list_database_names())"
   ]
  },
  {
   "cell_type": "code",
   "execution_count": 194,
   "metadata": {},
   "outputs": [
    {
     "name": "stdout",
     "output_type": "stream",
     "text": [
      "['posts']\n"
     ]
    },
    {
     "data": {
      "text/plain": [
       "<pymongo.results.InsertOneResult at 0x12e1eec80>"
      ]
     },
     "execution_count": 194,
     "metadata": {},
     "output_type": "execute_result"
    }
   ],
   "source": [
    "db_name = \"weather_data\"\n",
    "db = client[db_name] #mydb\n",
    "db['weather_data'].insert_one(json.loads(get_seven_day_data(zipcode).to_json()))\n",
    "db['weather_data'].insert_one(json.loads(get_tonight_data(zipcode).to_json()))\n"
   ]
  },
  {
   "cell_type": "code",
   "execution_count": 196,
   "metadata": {},
   "outputs": [
    {
     "data": {
      "text/plain": [
       "{'_id': ObjectId('636c79bccb9063f29f34e4c8'),\n",
       " 'period': {'0': 'Tonight',\n",
       "  '1': 'Thursday',\n",
       "  '2': 'ThursdayNight',\n",
       "  '3': 'VeteransDay',\n",
       "  '4': 'FridayNight',\n",
       "  '5': 'Saturday',\n",
       "  '6': 'SaturdayNight',\n",
       "  '7': 'Sunday',\n",
       "  '8': 'SundayNight'},\n",
       " 'short_desc': {'0': 'Partly Cloudy',\n",
       "  '1': 'Mostly Cloudy',\n",
       "  '2': 'Cloudy thenShowers',\n",
       "  '3': 'Showers',\n",
       "  '4': 'ShowersLikely',\n",
       "  '5': 'Sunny',\n",
       "  '6': 'Mostly Cloudy',\n",
       "  '7': 'Sunny',\n",
       "  '8': 'Mostly Clear'},\n",
       " 'temp': {'0': 'Low: 45 °F',\n",
       "  '1': 'High: 65 °F',\n",
       "  '2': 'Low: 56 °F',\n",
       "  '3': 'High: 70 °F',\n",
       "  '4': 'Low: 56 °F',\n",
       "  '5': 'High: 66 °F',\n",
       "  '6': 'Low: 39 °F',\n",
       "  '7': 'High: 49 °F',\n",
       "  '8': 'Low: 27 °F'},\n",
       " 'desc': {'0': 'Tonight: Partly cloudy, with a low around 45. Light north wind. ',\n",
       "  '1': 'Thursday: Mostly cloudy, with a high near 65. Light and variable wind becoming southeast 5 to 7 mph in the afternoon. ',\n",
       "  '2': 'Thursday Night: Showers after 1am.  Low around 56. Light northeast wind.  Chance of precipitation is 80%. New precipitation amounts between a quarter and half of an inch possible. ',\n",
       "  '3': 'Veterans Day: Showers and possibly a thunderstorm.  High near 70. Northeast wind 5 to 11 mph becoming southeast in the afternoon. Winds could gust as high as 21 mph.  Chance of precipitation is 100%. New rainfall amounts between 1 and 2 inches possible. ',\n",
       "  '4': 'Friday Night: Showers likely, mainly before 1am.  Mostly cloudy, with a low around 56. Southeast wind 9 to 11 mph becoming west after midnight. Winds could gust as high as 22 mph.  Chance of precipitation is 70%.',\n",
       "  '5': 'Saturday: Sunny, with a high near 66.',\n",
       "  '6': 'Saturday Night: Mostly cloudy, with a low around 39.',\n",
       "  '7': 'Sunday: Sunny, with a high near 49.',\n",
       "  '8': 'Sunday Night: Mostly clear, with a low around 27.'}}"
      ]
     },
     "execution_count": 196,
     "metadata": {},
     "output_type": "execute_result"
    }
   ],
   "source": [
    "db['weather_data'].find_one()"
   ]
  }
 ],
 "metadata": {
  "kernelspec": {
   "display_name": "Python 3.10.6 64-bit",
   "language": "python",
   "name": "python3"
  },
  "language_info": {
   "codemirror_mode": {
    "name": "ipython",
    "version": 3
   },
   "file_extension": ".py",
   "mimetype": "text/x-python",
   "name": "python",
   "nbconvert_exporter": "python",
   "pygments_lexer": "ipython3",
   "version": "3.10.8"
  },
  "orig_nbformat": 4,
  "vscode": {
   "interpreter": {
    "hash": "aee8b7b246df8f9039afb4144a1f6fd8d2ca17a180786b69acc140d282b71a49"
   }
  }
 },
 "nbformat": 4,
 "nbformat_minor": 2
}
