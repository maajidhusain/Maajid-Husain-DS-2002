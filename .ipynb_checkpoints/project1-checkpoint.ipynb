{
 "cells": [
  {
   "cell_type": "markdown",
   "metadata": {},
   "source": [
    "## Project 1 \n",
    "**Deliverable:** Author a segment of an ETL pipeline that will ingest or process raw data.\n",
    "You must also submit a URL to a GitHub repository for your solution. In python you’ll\n",
    "need to know how to open files, iterate files, pattern match and output files.\n",
    "\n",
    "**Benchmarks:**\n",
    "1. Your data processor should be able to ingest a pre-defined data source and\n",
    "perform at least three of these operations:\n",
    "    * Fetch / download / retrieve a remote data file by URL (API call like we did\n",
    "    in class), or ingest a local file that you have downloaded from\n",
    "    somewhere…like in a CSV format. Suggestions for remote data sources\n",
    "    are listed at the end of this document on our Github page as we went\n",
    "    through in class.\n",
    "    * Convert the general format and data structure of the data source (from\n",
    "    JSON to CSV, from CSV to JSON, from JSON into a SQL database table,\n",
    "    etc. I want the option to convert any source to any target. So, if I get a\n",
    "    CSV as an input, I want the user to choose an output)\n",
    "    * Modify the number of columns from the source to the destination,\n",
    "    reducing or adding columns so that you transform it with something\n",
    "    else…you can make up whatever it is…like date changes…or mash up\n",
    "    two columns…it’s up to you.\n",
    "    * The converted (new) file should be written to disk (local file) or written to a\n",
    "SQL database like SQL Lite\n",
    "    * Generate a brief summary of the data file ingestion after it has processed\n",
    "and output it to the user including:\n",
    "        * Number of records\n",
    "        * Number of columns\n",
    "2. The processor should produce informative errors should it be unable to complete\n",
    "an operation. (Try / Catch with error messages, not file exists…just pick any\n",
    "error.)"
   ]
  },
  {
   "cell_type": "code",
   "execution_count": 1,
   "metadata": {},
   "outputs": [],
   "source": [
    "import os\n",
    "import json\n",
    "import pprint\n",
    "import requests\n",
    "import requests.exceptions\n",
    "import pandas as pd"
   ]
  },
  {
   "cell_type": "code",
   "execution_count": 2,
   "metadata": {},
   "outputs": [],
   "source": [
    "def url_able(input):\n",
    "    rep = \"%20\"\n",
    "    for i in range(len(input)):\n",
    "        if(input[i] == ' '):\n",
    "            input = input.replace(input[i],rep)\n",
    "    return input"
   ]
  },
  {
   "cell_type": "code",
   "execution_count": 3,
   "metadata": {},
   "outputs": [
    {
     "name": "stdout",
     "output_type": "stream",
     "text": [
      "Breaking Bad\n",
      "The stock you have chosen is breaking bad\n",
      "url is breaking%20bad\n"
     ]
    }
   ],
   "source": [
    "show_name = input().lower()\n",
    "print(f'The stock you have chosen is {show_name}')\n",
    "show_name = url_able(show_name)\n",
    "print(f'url is {show_name}')"
   ]
  },
  {
   "cell_type": "markdown",
   "metadata": {},
   "source": [
    "https://api.tvmaze.com/search/shows?q=breaking%20bad"
   ]
  },
  {
   "cell_type": "code",
   "execution_count": 4,
   "metadata": {},
   "outputs": [
    {
     "data": {
      "text/plain": [
       "b'{\"error\":{\"result\":null,\"error\":{\"code\":\"argument-error\",\"description\":\"Missing value for the \\\\\"modules\\\\\" argument\"}}}'"
      ]
     },
     "execution_count": 4,
     "metadata": {},
     "output_type": "execute_result"
    }
   ],
   "source": [
    "url = 'https://query1.finance.yahoo.com/v11/finance/quoteSummary/'\n",
    "querystring = {\"symbol\": show_name} #type dict\n",
    "header_var ={'User-Agent': 'Mozilla/5.0 (Macintosh; Intel Mac OS X 10_10_1) AppleWebKit/537.36 (KHTML, like Gecko) Chrome/39.0.2171.95 Safari/537.36'}\n",
    "response = requests.request(\"GET\",url, headers=header_var, params=querystring)\n",
    "response.content"
   ]
  },
  {
   "cell_type": "code",
   "execution_count": 5,
   "metadata": {},
   "outputs": [],
   "source": [
    "url = 'https://api.kroger.com/v1/connect/oauth2/authorize?scope={{SCOPES}}&response_type=code&client_id={{CLIENT_ID}}&redirect_uri={{REDIRECT_URI}}'\n"
   ]
  },
  {
   "cell_type": "code",
   "execution_count": 6,
   "metadata": {},
   "outputs": [],
   "source": [
    "def data_request(link):\n",
    "    \n",
    "    result = requests.get(link)\n",
    "    result.status_code\n",
    "    if result.status_code == 200:\n",
    "        data = result.json()\n",
    "        print(\"\\n Data is retrieved sucessfully. \\n\")\n",
    "        \n",
    "        df = pd.DataFrame.from_records(data)\n",
    "        df.to_csv('tvmazedata.csv', encoding='utf-8', index=False) \n",
    "        print(df.head(10))\n",
    "    else:\n",
    "        print(\"\\n ERROR\")"
   ]
  },
  {
   "cell_type": "code",
   "execution_count": 7,
   "metadata": {},
   "outputs": [
    {
     "name": "stdout",
     "output_type": "stream",
     "text": [
      "\n",
      " Data is retrieved sucessfully. \n",
      "\n",
      "   id                                                url                name  \\\n",
      "0   1      https://www.tvmaze.com/shows/1/under-the-dome      Under the Dome   \n",
      "1   2  https://www.tvmaze.com/shows/2/person-of-interest  Person of Interest   \n",
      "2   3              https://www.tvmaze.com/shows/3/bitten              Bitten   \n",
      "3   4               https://www.tvmaze.com/shows/4/arrow               Arrow   \n",
      "4   5      https://www.tvmaze.com/shows/5/true-detective      True Detective   \n",
      "5   6             https://www.tvmaze.com/shows/6/the-100             The 100   \n",
      "6   7            https://www.tvmaze.com/shows/7/homeland            Homeland   \n",
      "7   8                https://www.tvmaze.com/shows/8/glee                Glee   \n",
      "8   9             https://www.tvmaze.com/shows/9/revenge             Revenge   \n",
      "9  10              https://www.tvmaze.com/shows/10/grimm               Grimm   \n",
      "\n",
      "       type language                                genres   status  runtime  \\\n",
      "0  Scripted  English    [Drama, Science-Fiction, Thriller]    Ended     60.0   \n",
      "1  Scripted  English      [Action, Crime, Science-Fiction]    Ended     60.0   \n",
      "2  Scripted  English              [Drama, Horror, Romance]    Ended     60.0   \n",
      "3  Scripted  English      [Drama, Action, Science-Fiction]    Ended     60.0   \n",
      "4  Scripted  English              [Drama, Crime, Thriller]  Running     60.0   \n",
      "5  Scripted  English  [Action, Adventure, Science-Fiction]    Ended     60.0   \n",
      "6  Scripted  English          [Drama, Thriller, Espionage]    Ended     60.0   \n",
      "7  Scripted  English               [Drama, Music, Romance]    Ended     60.0   \n",
      "8  Scripted  English            [Drama, Thriller, Mystery]    Ended     60.0   \n",
      "9  Scripted  English          [Drama, Crime, Supernatural]    Ended     60.0   \n",
      "\n",
      "   averageRuntime   premiered  ...            rating weight  \\\n",
      "0              60  2013-06-24  ...  {'average': 6.5}     99   \n",
      "1              60  2011-09-22  ...  {'average': 8.8}     97   \n",
      "2              60  2014-01-11  ...  {'average': 7.5}     91   \n",
      "3              60  2012-10-10  ...  {'average': 7.4}     98   \n",
      "4              62  2014-01-12  ...  {'average': 8.2}     99   \n",
      "5              60  2014-03-19  ...  {'average': 7.7}     99   \n",
      "6              60  2011-10-02  ...  {'average': 8.2}     97   \n",
      "7              60  2009-05-19  ...  {'average': 6.6}     91   \n",
      "8              60  2011-09-21  ...  {'average': 7.7}     89   \n",
      "9              60  2011-10-28  ...  {'average': 8.4}     97   \n",
      "\n",
      "                                             network webChannel  dvdCountry  \\\n",
      "0  {'id': 2, 'name': 'CBS', 'country': {'name': '...       None        None   \n",
      "1  {'id': 2, 'name': 'CBS', 'country': {'name': '...       None        None   \n",
      "2  {'id': 7, 'name': 'CTV Sci-Fi Channel', 'count...       None        None   \n",
      "3  {'id': 5, 'name': 'The CW', 'country': {'name'...       None        None   \n",
      "4  {'id': 8, 'name': 'HBO', 'country': {'name': '...       None        None   \n",
      "5  {'id': 5, 'name': 'The CW', 'country': {'name'...       None        None   \n",
      "6  {'id': 9, 'name': 'Showtime', 'country': {'nam...       None        None   \n",
      "7  {'id': 4, 'name': 'FOX', 'country': {'name': '...       None        None   \n",
      "8  {'id': 3, 'name': 'ABC', 'country': {'name': '...       None        None   \n",
      "9  {'id': 1, 'name': 'NBC', 'country': {'name': '...       None        None   \n",
      "\n",
      "                                           externals  \\\n",
      "0  {'tvrage': 25988, 'thetvdb': 264492, 'imdb': '...   \n",
      "1  {'tvrage': 28376, 'thetvdb': 248742, 'imdb': '...   \n",
      "2  {'tvrage': 34965, 'thetvdb': 269550, 'imdb': '...   \n",
      "3  {'tvrage': 30715, 'thetvdb': 257655, 'imdb': '...   \n",
      "4  {'tvrage': 31369, 'thetvdb': 270633, 'imdb': '...   \n",
      "5  {'tvrage': 34770, 'thetvdb': 268592, 'imdb': '...   \n",
      "6  {'tvrage': 27811, 'thetvdb': 247897, 'imdb': '...   \n",
      "7  {'tvrage': 21704, 'thetvdb': 83610, 'imdb': 't...   \n",
      "8  {'tvrage': 28387, 'thetvdb': 248837, 'imdb': '...   \n",
      "9  {'tvrage': 28352, 'thetvdb': 248736, 'imdb': '...   \n",
      "\n",
      "                                               image  \\\n",
      "0  {'medium': 'https://static.tvmaze.com/uploads/...   \n",
      "1  {'medium': 'https://static.tvmaze.com/uploads/...   \n",
      "2  {'medium': 'https://static.tvmaze.com/uploads/...   \n",
      "3  {'medium': 'https://static.tvmaze.com/uploads/...   \n",
      "4  {'medium': 'https://static.tvmaze.com/uploads/...   \n",
      "5  {'medium': 'https://static.tvmaze.com/uploads/...   \n",
      "6  {'medium': 'https://static.tvmaze.com/uploads/...   \n",
      "7  {'medium': 'https://static.tvmaze.com/uploads/...   \n",
      "8  {'medium': 'https://static.tvmaze.com/uploads/...   \n",
      "9  {'medium': 'https://static.tvmaze.com/uploads/...   \n",
      "\n",
      "                                             summary     updated  \\\n",
      "0  <p><b>Under the Dome</b> is the story of a sma...  1631010933   \n",
      "1  <p>You are being watched. The government has a...  1631565378   \n",
      "2  <p>Based on the critically acclaimed series of...  1665307838   \n",
      "3  <p>After a violent shipwreck, billionaire play...  1652385053   \n",
      "4  <p>Touch darkness and darkness touches you bac...  1664276580   \n",
      "5  <p>Ninety-seven years ago, nuclear Armageddon ...  1666564713   \n",
      "6  <p>The winner of 6 Emmy Awards including Outst...  1658089899   \n",
      "7  <p><b>Glee </b>is a musical comedy about a gro...  1645378305   \n",
      "8  <p>This is not a story about forgiveness; <b>R...  1577712742   \n",
      "9  <p><b>Grimm </b>is a drama series inspired by ...  1654168545   \n",
      "\n",
      "                                              _links  \n",
      "0  {'self': {'href': 'https://api.tvmaze.com/show...  \n",
      "1  {'self': {'href': 'https://api.tvmaze.com/show...  \n",
      "2  {'self': {'href': 'https://api.tvmaze.com/show...  \n",
      "3  {'self': {'href': 'https://api.tvmaze.com/show...  \n",
      "4  {'self': {'href': 'https://api.tvmaze.com/show...  \n",
      "5  {'self': {'href': 'https://api.tvmaze.com/show...  \n",
      "6  {'self': {'href': 'https://api.tvmaze.com/show...  \n",
      "7  {'self': {'href': 'https://api.tvmaze.com/show...  \n",
      "8  {'self': {'href': 'https://api.tvmaze.com/show...  \n",
      "9  {'self': {'href': 'https://api.tvmaze.com/show...  \n",
      "\n",
      "[10 rows x 23 columns]\n"
     ]
    }
   ],
   "source": [
    "data_request('https://api.tvmaze.com/shows?format=json')\n"
   ]
  },
  {
   "cell_type": "code",
   "execution_count": null,
   "metadata": {},
   "outputs": [],
   "source": []
  }
 ],
 "metadata": {
  "kernelspec": {
   "display_name": "Python 3",
   "language": "python",
   "name": "python3"
  },
  "language_info": {
   "codemirror_mode": {
    "name": "ipython",
    "version": 3
   },
   "file_extension": ".py",
   "mimetype": "text/x-python",
   "name": "python",
   "nbconvert_exporter": "python",
   "pygments_lexer": "ipython3",
   "version": "3.8.5"
  },
  "vscode": {
   "interpreter": {
    "hash": "aee8b7b246df8f9039afb4144a1f6fd8d2ca17a180786b69acc140d282b71a49"
   }
  }
 },
 "nbformat": 4,
 "nbformat_minor": 2
}
